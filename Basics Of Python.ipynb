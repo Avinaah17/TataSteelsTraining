{
 "cells": [
  {
   "cell_type": "code",
   "execution_count": 1,
   "metadata": {},
   "outputs": [
    {
     "name": "stdout",
     "output_type": "stream",
     "text": [
      "Hello, world!\n"
     ]
    }
   ],
   "source": [
    "print(\"Hello, world!\")"
   ]
  },
  {
   "cell_type": "code",
   "execution_count": null,
   "metadata": {},
   "outputs": [],
   "source": [
    "#python is a scripting language which can be used for various development & analytical purpose"
   ]
  },
  {
   "cell_type": "code",
   "execution_count": 2,
   "metadata": {},
   "outputs": [],
   "source": [
    "#data types\n",
    "\n",
    "n1=10 #integer values(whole numbers)"
   ]
  },
  {
   "cell_type": "code",
   "execution_count": 3,
   "metadata": {},
   "outputs": [],
   "source": [
    "#characters, string values\n",
    "\n",
    "name=\"Harshit Shukla\" #string data"
   ]
  },
  {
   "cell_type": "code",
   "execution_count": 4,
   "metadata": {},
   "outputs": [],
   "source": [
    "#decimal numbers\n",
    "f1=34.567 #float values"
   ]
  },
  {
   "cell_type": "code",
   "execution_count": 5,
   "metadata": {},
   "outputs": [],
   "source": [
    "#store multiple together\n",
    "\n",
    "\n",
    "#list of values\n",
    "\n",
    "l1=[  1,\"Harshit\",23.456,10.91, -98,-87 ]"
   ]
  },
  {
   "cell_type": "code",
   "execution_count": 6,
   "metadata": {},
   "outputs": [],
   "source": [
    "#tuple\n",
    "tp=(1,\"Harshit\",23.45)"
   ]
  },
  {
   "cell_type": "code",
   "execution_count": 7,
   "metadata": {},
   "outputs": [],
   "source": [
    "#dictionary\n",
    "\n",
    "d1={ \"id\": 1 ,  \"name\": \"Harshit\", \"data\": 23.45  }"
   ]
  },
  {
   "cell_type": "code",
   "execution_count": 8,
   "metadata": {},
   "outputs": [],
   "source": [
    "#mutable------->value that can be change(list, dictionaries)"
   ]
  },
  {
   "cell_type": "code",
   "execution_count": 9,
   "metadata": {},
   "outputs": [],
   "source": [
    "# immutable------> cannot be changed(tuples, string)"
   ]
  },
  {
   "cell_type": "code",
   "execution_count": 10,
   "metadata": {},
   "outputs": [
    {
     "name": "stdout",
     "output_type": "stream",
     "text": [
      "{'id': 1, 'name': 'Harshit', 'data': 23.45}\n"
     ]
    }
   ],
   "source": [
    "print(  d1 )"
   ]
  },
  {
   "cell_type": "code",
   "execution_count": 12,
   "metadata": {},
   "outputs": [
    {
     "name": "stdout",
     "output_type": "stream",
     "text": [
      "10 Harshit Shukla\n"
     ]
    }
   ],
   "source": [
    "print(  n1 ,                    name )"
   ]
  },
  {
   "cell_type": "code",
   "execution_count": null,
   "metadata": {},
   "outputs": [],
   "source": [
    "#separator option changes the characters used for separating items in a print statement"
   ]
  },
  {
   "cell_type": "code",
   "execution_count": 14,
   "metadata": {},
   "outputs": [
    {
     "name": "stdout",
     "output_type": "stream",
     "text": [
      "[1, 'Harshit', 23.456, 10.91, -98, -87]------34.567\n"
     ]
    }
   ],
   "source": [
    "print(   l1, f1,sep=\"------\" )"
   ]
  },
  {
   "cell_type": "code",
   "execution_count": 15,
   "metadata": {},
   "outputs": [
    {
     "name": "stdout",
     "output_type": "stream",
     "text": [
      "[1, 'Harshit', 23.456, 10.91, -98, -87]------34.567------Harshit Shukla------{'id': 1, 'name': 'Harshit', 'data': 23.45}\n"
     ]
    }
   ],
   "source": [
    "print(   l1, f1,name,d1,sep=\"------\" )"
   ]
  },
  {
   "cell_type": "code",
   "execution_count": 17,
   "metadata": {},
   "outputs": [
    {
     "name": "stdout",
     "output_type": "stream",
     "text": [
      "[1, 'Harshit', 23.456, 10.91, -98, -87]^^^^^^34.567^^^^^^Harshit Shukla^^^^^^{'id': 1, 'name': 'Harshit', 'data': 23.45}\n"
     ]
    }
   ],
   "source": [
    "print(   l1, f1,name,d1,sep=\"^^^^^^\" )"
   ]
  },
  {
   "cell_type": "code",
   "execution_count": 19,
   "metadata": {},
   "outputs": [
    {
     "name": "stdout",
     "output_type": "stream",
     "text": [
      "[1, 'Harshit', 23.456, 10.91, -98, -87]------34.567&&&&&Harshit Shukla^^^^^^{'id': 1, 'name': 'Harshit', 'data': 23.45}\n"
     ]
    }
   ],
   "source": [
    "print(   l1, f1,sep=\"------\",end=\"&&&&&\" )\n",
    "print(   name,d1,sep=\"^^^^^^\" )"
   ]
  },
  {
   "cell_type": "code",
   "execution_count": 20,
   "metadata": {},
   "outputs": [
    {
     "data": {
      "text/plain": [
       "'Harshit'"
      ]
     },
     "execution_count": 20,
     "metadata": {},
     "output_type": "execute_result"
    }
   ],
   "source": [
    "d1['name']"
   ]
  },
  {
   "cell_type": "code",
   "execution_count": 21,
   "metadata": {},
   "outputs": [
    {
     "name": "stdout",
     "output_type": "stream",
     "text": [
      "Enter your name: Harshit S\n"
     ]
    }
   ],
   "source": [
    "name = input(\"Enter your name: \") #name is data given as input"
   ]
  },
  {
   "cell_type": "code",
   "execution_count": 22,
   "metadata": {},
   "outputs": [
    {
     "name": "stdout",
     "output_type": "stream",
     "text": [
      "Harshit S\n"
     ]
    }
   ],
   "source": [
    "print(  name  )"
   ]
  },
  {
   "cell_type": "code",
   "execution_count": null,
   "metadata": {},
   "outputs": [],
   "source": [
    "#use type function to verify data type"
   ]
  },
  {
   "cell_type": "code",
   "execution_count": 23,
   "metadata": {},
   "outputs": [
    {
     "name": "stdout",
     "output_type": "stream",
     "text": [
      "<class 'float'>\n"
     ]
    }
   ],
   "source": [
    "print (   type(f1)  ) "
   ]
  },
  {
   "cell_type": "code",
   "execution_count": 24,
   "metadata": {},
   "outputs": [
    {
     "name": "stdout",
     "output_type": "stream",
     "text": [
      "<class 'list'> <class 'dict'>\n"
     ]
    }
   ],
   "source": [
    "print (   type(l1),type(d1)  )"
   ]
  },
  {
   "cell_type": "code",
   "execution_count": 25,
   "metadata": {},
   "outputs": [
    {
     "name": "stdout",
     "output_type": "stream",
     "text": [
      "<class 'tuple'>\n",
      "<class 'str'>\n"
     ]
    }
   ],
   "source": [
    "print (   type(tp),type(name), sep=\"\\n\"  )"
   ]
  },
  {
   "cell_type": "code",
   "execution_count": 26,
   "metadata": {},
   "outputs": [
    {
     "name": "stdout",
     "output_type": "stream",
     "text": [
      "Enter your age: 28\n"
     ]
    }
   ],
   "source": [
    "age=input(\"Enter your age: \")"
   ]
  },
  {
   "cell_type": "code",
   "execution_count": 28,
   "metadata": {},
   "outputs": [
    {
     "name": "stdout",
     "output_type": "stream",
     "text": [
      "<class 'str'>\n"
     ]
    }
   ],
   "source": [
    "print(  type(age) )"
   ]
  },
  {
   "cell_type": "code",
   "execution_count": 29,
   "metadata": {},
   "outputs": [
    {
     "name": "stdout",
     "output_type": "stream",
     "text": [
      "Enter your age: 28\n"
     ]
    }
   ],
   "source": [
    "age= int( input(\"Enter your age: \" )  )"
   ]
  },
  {
   "cell_type": "code",
   "execution_count": 30,
   "metadata": {},
   "outputs": [
    {
     "name": "stdout",
     "output_type": "stream",
     "text": [
      "<class 'int'>\n"
     ]
    }
   ],
   "source": [
    "print(  type(age) ) #"
   ]
  },
  {
   "cell_type": "code",
   "execution_count": 31,
   "metadata": {},
   "outputs": [
    {
     "name": "stdout",
     "output_type": "stream",
     "text": [
      "30\n"
     ]
    }
   ],
   "source": [
    "#arithmetic operations\n",
    "print( 10 + 20 ) #addition\n"
   ]
  },
  {
   "cell_type": "code",
   "execution_count": 32,
   "metadata": {},
   "outputs": [
    {
     "name": "stdout",
     "output_type": "stream",
     "text": [
      "-10\n"
     ]
    }
   ],
   "source": [
    "print( 10 - 20 ) #subtraction\n"
   ]
  },
  {
   "cell_type": "code",
   "execution_count": 33,
   "metadata": {},
   "outputs": [
    {
     "name": "stdout",
     "output_type": "stream",
     "text": [
      "200\n"
     ]
    }
   ],
   "source": [
    "print( 10 * 20 ) #multiplication\n"
   ]
  },
  {
   "cell_type": "code",
   "execution_count": 34,
   "metadata": {},
   "outputs": [
    {
     "name": "stdout",
     "output_type": "stream",
     "text": [
      "100\n"
     ]
    }
   ],
   "source": [
    "print( 10 ** 2 ) #two stars is exponent operation ---> 10 raised to the power 2\n"
   ]
  },
  {
   "cell_type": "code",
   "execution_count": 35,
   "metadata": {},
   "outputs": [
    {
     "name": "stdout",
     "output_type": "stream",
     "text": [
      "0.5\n"
     ]
    }
   ],
   "source": [
    "print( 10 / 20 ) #division. float division\n"
   ]
  },
  {
   "cell_type": "code",
   "execution_count": 36,
   "metadata": {},
   "outputs": [
    {
     "name": "stdout",
     "output_type": "stream",
     "text": [
      "3.3333333333333335\n"
     ]
    }
   ],
   "source": [
    "print( 10 / 3 ) #division. float division\n"
   ]
  },
  {
   "cell_type": "code",
   "execution_count": 37,
   "metadata": {},
   "outputs": [
    {
     "name": "stdout",
     "output_type": "stream",
     "text": [
      "3\n"
     ]
    }
   ],
   "source": [
    "print( 10 // 3  ) #floor division"
   ]
  },
  {
   "cell_type": "code",
   "execution_count": 39,
   "metadata": {},
   "outputs": [
    {
     "name": "stdout",
     "output_type": "stream",
     "text": [
      "1\n"
     ]
    }
   ],
   "source": [
    "#remainder of a division operation\n",
    "\n",
    "print( 10 % 3 ) #remainder.\n"
   ]
  },
  {
   "cell_type": "code",
   "execution_count": 3,
   "metadata": {},
   "outputs": [
    {
     "name": "stdout",
     "output_type": "stream",
     "text": [
      "division example\n"
     ]
    }
   ],
   "source": [
    " \"\"\"\n",
    "         3  <--------------quotient\n",
    "         \n",
    "    ----------- \n",
    " 3  )   10\n",
    "      - 9\n",
    "      --------\n",
    "      \n",
    "        1<-----------remainder\n",
    " \n",
    " \"\"\"\n",
    "    \n",
    "print(\"division example\")"
   ]
  },
  {
   "cell_type": "code",
   "execution_count": 42,
   "metadata": {},
   "outputs": [
    {
     "name": "stdout",
     "output_type": "stream",
     "text": [
      "Enter number 1: 10\n",
      "Enter number 2: 4\n",
      "The result of  10  multiplied by  4 is 40\n"
     ]
    }
   ],
   "source": [
    "#take 2 numbers from the user. multiply and show result\n",
    "\n",
    "n1=int(input(\"Enter number 1: \"))\n",
    "n2=int(input(\"Enter number 2: \"))\n",
    "\n",
    "print(\"The result of \" , n1 , \" multiplied by \" , n2, \"is\", n1*n2)"
   ]
  },
  {
   "cell_type": "code",
   "execution_count": 43,
   "metadata": {},
   "outputs": [
    {
     "name": "stdout",
     "output_type": "stream",
     "text": [
      "Enter number 1: 2\n",
      "Enter number 2: 3\n",
      "The result of  2  multiplied by  3 is 6\n"
     ]
    }
   ],
   "source": [
    "#take 2 numbers from the user. multiply and show result\n",
    "\n",
    "n1=int(input(\"Enter number 1: \"))\n",
    "n2=int(input(\"Enter number 2: \"))\n",
    "\n",
    "print(\"The result of \" , n1 , \" multiplied by \" , n2, \"is\", n1*n2)"
   ]
  },
  {
   "cell_type": "code",
   "execution_count": 46,
   "metadata": {},
   "outputs": [
    {
     "data": {
      "text/plain": [
       "'3.8.6 (default, Jan 27 2021, 15:42:20) \\n[GCC 10.2.0]'"
      ]
     },
     "execution_count": 46,
     "metadata": {},
     "output_type": "execute_result"
    }
   ],
   "source": [
    "import sys\n",
    "sys.version"
   ]
  },
  {
   "cell_type": "code",
   "execution_count": null,
   "metadata": {},
   "outputs": [],
   "source": [
    "# python 3.6+"
   ]
  },
  {
   "cell_type": "code",
   "execution_count": 45,
   "metadata": {},
   "outputs": [
    {
     "name": "stdout",
     "output_type": "stream",
     "text": [
      "The result of 2 multiplied by 3 is 6\n"
     ]
    }
   ],
   "source": [
    "print(  f\"The result of {n1} multiplied by {n2} is {n1*n2}\" ) #formatted string"
   ]
  },
  {
   "cell_type": "code",
   "execution_count": 48,
   "metadata": {},
   "outputs": [
    {
     "name": "stdout",
     "output_type": "stream",
     "text": [
      "Enter your age: 15\n"
     ]
    }
   ],
   "source": [
    "#conditional programming\n",
    "\n",
    "age=int(input(\"Enter your age: \"))\n",
    "\n",
    "if age >= 18:\n",
    "    print(\"You can vote\")"
   ]
  },
  {
   "cell_type": "code",
   "execution_count": 50,
   "metadata": {},
   "outputs": [
    {
     "name": "stdout",
     "output_type": "stream",
     "text": [
      "Enter your age: 25\n",
      "You can vote\n"
     ]
    }
   ],
   "source": [
    "#conditional programming\n",
    "\n",
    "age=int(input(\"Enter your age: \"))\n",
    "\n",
    "if age >= 18:\n",
    "    print(\"You can vote\")\n",
    "else:\n",
    "    print(\"You are not allowed to vote as you not of voting age\")"
   ]
  },
  {
   "cell_type": "code",
   "execution_count": 55,
   "metadata": {},
   "outputs": [
    {
     "name": "stdout",
     "output_type": "stream",
     "text": [
      "Enter your age: 31\n",
      "Enter your gender: female\n",
      "you can legally marry in any state of India\n"
     ]
    }
   ],
   "source": [
    "age=int(input(\"Enter your age: \"))\n",
    "gender=input(\"Enter your gender: \")\n",
    "if age < 18 and age > 0:\n",
    "    print(\"You CANNOT MARRY AT THIS AGE\")\n",
    "    \n",
    "elif age>=18 and gender == \"female\":\n",
    "    print(\"you can legally marry in any state of India\")\n",
    "    \n",
    "elif age>=21 and gender == \"male\":\n",
    "    print(\"you can legally marry in any state of India\")\n",
    "    \n",
    "elif age>=18 and age<=21 and gender==\"male\":\n",
    "    print(\"You can marry once you turn 21\")\n",
    "else:\n",
    "    print(\"Please check the age input given\")\n"
   ]
  },
  {
   "cell_type": "code",
   "execution_count": 56,
   "metadata": {},
   "outputs": [
    {
     "data": {
      "text/plain": [
       "'/home/harshit'"
      ]
     },
     "execution_count": 56,
     "metadata": {},
     "output_type": "execute_result"
    }
   ],
   "source": [
    "import os\n",
    "os.getcwd()"
   ]
  },
  {
   "cell_type": "code",
   "execution_count": 58,
   "metadata": {},
   "outputs": [
    {
     "name": "stdout",
     "output_type": "stream",
     "text": [
      "Enter a number: 5\n",
      "5\n",
      "6\n",
      "7\n",
      "8\n",
      "9\n",
      "hello\n"
     ]
    }
   ],
   "source": [
    "n1=int(input(\"Enter a number: \"))\n",
    "\n",
    "# if you don't know the exact number of times a loop is to be executed, but you know the condition\n",
    "#when to stop\n",
    "while n1 < 10:\n",
    "    print( n1 )\n",
    "    n1=n1+1\n",
    "    \n",
    "print(\"hello\")"
   ]
  },
  {
   "cell_type": "code",
   "execution_count": 59,
   "metadata": {},
   "outputs": [
    {
     "name": "stdout",
     "output_type": "stream",
     "text": [
      "1\n",
      "2\n",
      "3\n",
      "4\n",
      "5\n",
      "6\n",
      "7\n",
      "8\n",
      "9\n",
      "10\n"
     ]
    }
   ],
   "source": [
    "#for loop\n",
    "\"\"\"\n",
    "the exact iterations/cycle to be run should be clear\n",
    "\"\"\"\n",
    "#end value is not inclusive\n",
    "#for(int count=1;count< 11 ; count++)\n",
    "for count in range(1,11,1):\n",
    "    print(count)"
   ]
  },
  {
   "cell_type": "code",
   "execution_count": 60,
   "metadata": {},
   "outputs": [
    {
     "name": "stdout",
     "output_type": "stream",
     "text": [
      "10\n",
      "9\n",
      "8\n",
      "7\n"
     ]
    }
   ],
   "source": [
    "#for(count=10;count > 6; count --)\n",
    "for count in range(10,6,-1):\n",
    "    print(count)"
   ]
  },
  {
   "cell_type": "code",
   "execution_count": 61,
   "metadata": {
    "scrolled": true
   },
   "outputs": [
    {
     "name": "stdout",
     "output_type": "stream",
     "text": [
      "10\n",
      "7\n",
      "4\n"
     ]
    }
   ],
   "source": [
    "#                     3   4    5  6  7  8  9  10\n",
    "\n",
    "# 10    \n",
    "    \n",
    "for count in range(10,2,-3):\n",
    "    print(count)"
   ]
  },
  {
   "cell_type": "code",
   "execution_count": 62,
   "metadata": {},
   "outputs": [
    {
     "name": "stdout",
     "output_type": "stream",
     "text": [
      "1\n",
      "2\n",
      "3\n",
      "4\n",
      "5\n",
      "6\n",
      "7\n",
      "8\n",
      "9\n",
      "10\n"
     ]
    }
   ],
   "source": [
    "#start value has a default of 0\n",
    "#step value has a default of +1\n",
    "\n",
    "for count in range(1,11):\n",
    "    print(count)\n",
    "\n"
   ]
  },
  {
   "cell_type": "code",
   "execution_count": 63,
   "metadata": {},
   "outputs": [
    {
     "name": "stdout",
     "output_type": "stream",
     "text": [
      "1\t2\t3\t4\t5\t6\t7\t8\t9\t10\t"
     ]
    }
   ],
   "source": [
    "for count in range(1,11):\n",
    "    print(count,end=\"\\t\")\n"
   ]
  },
  {
   "cell_type": "code",
   "execution_count": 64,
   "metadata": {},
   "outputs": [
    {
     "name": "stdout",
     "output_type": "stream",
     "text": [
      "0\t1\t2\t3\t4\t5\t6\t7\t8\t9\t10\t"
     ]
    }
   ],
   "source": [
    "for count in range(11): #only one number means ending point\n",
    "    print(count,end=\"\\t\")"
   ]
  },
  {
   "cell_type": "code",
   "execution_count": 65,
   "metadata": {},
   "outputs": [
    {
     "name": "stdout",
     "output_type": "stream",
     "text": [
      "7\n"
     ]
    }
   ],
   "source": [
    "print(   len(\"harshit\") )"
   ]
  },
  {
   "cell_type": "code",
   "execution_count": 66,
   "metadata": {},
   "outputs": [
    {
     "name": "stdout",
     "output_type": "stream",
     "text": [
      "0\n",
      "1\n",
      "2\n",
      "3\n",
      "4\n",
      "5\n",
      "6\n"
     ]
    }
   ],
   "source": [
    "for index in range(  len(\"harshit\")   ):\n",
    "    print(index)"
   ]
  },
  {
   "cell_type": "code",
   "execution_count": 67,
   "metadata": {},
   "outputs": [
    {
     "name": "stdout",
     "output_type": "stream",
     "text": [
      "Harshit Shukla in upper case HARSHIT SHUKLA \n"
     ]
    }
   ],
   "source": [
    "#string class\n",
    "\n",
    "\n",
    "name=\"Harshit Shukla\"\n",
    "\n",
    "print(f\"{name} in upper case {name.upper()} \")"
   ]
  },
  {
   "cell_type": "code",
   "execution_count": 68,
   "metadata": {},
   "outputs": [
    {
     "name": "stdout",
     "output_type": "stream",
     "text": [
      "PYTHON\n"
     ]
    }
   ],
   "source": [
    "print(  \"python\".upper()  )"
   ]
  },
  {
   "cell_type": "code",
   "execution_count": 70,
   "metadata": {},
   "outputs": [
    {
     "name": "stdout",
     "output_type": "stream",
     "text": [
      "Enter a string: demo data\n",
      "DEMO DATA\n"
     ]
    }
   ],
   "source": [
    "print(  input(\"Enter a string: \").upper()  )"
   ]
  },
  {
   "cell_type": "code",
   "execution_count": 71,
   "metadata": {},
   "outputs": [
    {
     "name": "stdout",
     "output_type": "stream",
     "text": [
      "python\n"
     ]
    }
   ],
   "source": [
    "print(  \"PytHoN\".lower() )"
   ]
  },
  {
   "cell_type": "code",
   "execution_count": 72,
   "metadata": {},
   "outputs": [
    {
     "name": "stdout",
     "output_type": "stream",
     "text": [
      "tEmPdAta\n"
     ]
    }
   ],
   "source": [
    "print(  \"TeMpDaTA\".swapcase()   ) #interchange the casing"
   ]
  },
  {
   "cell_type": "code",
   "execution_count": 74,
   "metadata": {},
   "outputs": [
    {
     "name": "stdout",
     "output_type": "stream",
     "text": [
      "Help on built-in function count:\n",
      "\n",
      "count(...) method of builtins.str instance\n",
      "    S.count(sub[, start[, end]]) -> int\n",
      "    \n",
      "    Return the number of non-overlapping occurrences of substring sub in\n",
      "    string S[start:end].  Optional arguments start and end are\n",
      "    interpreted as in slice notation.\n",
      "\n"
     ]
    }
   ],
   "source": [
    "help(\"data\".count ) #don't call count function"
   ]
  },
  {
   "cell_type": "code",
   "execution_count": 76,
   "metadata": {},
   "outputs": [
    {
     "name": "stdout",
     "output_type": "stream",
     "text": [
      "2\n"
     ]
    }
   ],
   "source": [
    "print(  \"dataTodata\".count(\"data\") )"
   ]
  },
  {
   "cell_type": "code",
   "execution_count": null,
   "metadata": {},
   "outputs": [],
   "source": [
    "\"\"\"\n",
    "upper \n",
    "lower\n",
    "swapcase\n",
    "count\n",
    "\"\"\""
   ]
  },
  {
   "cell_type": "code",
   "execution_count": 77,
   "metadata": {},
   "outputs": [
    {
     "name": "stdout",
     "output_type": "stream",
     "text": [
      "DXtXToDXtX\n"
     ]
    }
   ],
   "source": [
    "print(  \"DataToData\".replace( \"a\",\"X\" )  ) #replace part of a string"
   ]
  },
  {
   "cell_type": "code",
   "execution_count": 78,
   "metadata": {},
   "outputs": [
    {
     "name": "stdout",
     "output_type": "stream",
     "text": [
      "4\n"
     ]
    }
   ],
   "source": [
    "print(  \"DataToData\".find(\"To\")  ) #first ocurrence from the start. gives index"
   ]
  },
  {
   "cell_type": "markdown",
   "metadata": {},
   "source": []
  },
  {
   "cell_type": "code",
   "execution_count": 79,
   "metadata": {},
   "outputs": [
    {
     "name": "stdout",
     "output_type": "stream",
     "text": [
      "Enter your first name and last name together with a space in between: Harshit Shukla\n",
      "['Harshit', 'Shukla']\n"
     ]
    }
   ],
   "source": [
    "name=input(\"Enter your first name and last name together with a space in between: \")\n",
    "\n",
    "print( name.split(\" \") )"
   ]
  },
  {
   "cell_type": "code",
   "execution_count": 80,
   "metadata": {},
   "outputs": [
    {
     "name": "stdout",
     "output_type": "stream",
     "text": [
      "Enter your first name and last name together with a space in between: Harshit Shukla\n",
      "['Harshit', 'Shukla']\n"
     ]
    }
   ],
   "source": [
    "print( input(\"Enter your first name and last name together with a space in between: \").split(\" \"))"
   ]
  },
  {
   "cell_type": "code",
   "execution_count": 81,
   "metadata": {},
   "outputs": [
    {
     "name": "stdout",
     "output_type": "stream",
     "text": [
      "Enter your first name and last name together with a space in between: Harshit Shukla\n"
     ]
    }
   ],
   "source": [
    "msg=\"Enter your first name and last name together with a space in between: \"\n",
    "firstName, lastName = input(msg).split(\" \")"
   ]
  },
  {
   "cell_type": "code",
   "execution_count": 82,
   "metadata": {},
   "outputs": [
    {
     "name": "stdout",
     "output_type": "stream",
     "text": [
      "Harshit\n"
     ]
    }
   ],
   "source": [
    "print(firstName)"
   ]
  },
  {
   "cell_type": "code",
   "execution_count": 83,
   "metadata": {},
   "outputs": [
    {
     "name": "stdout",
     "output_type": "stream",
     "text": [
      "Shukla\n"
     ]
    }
   ],
   "source": [
    "print(lastName)"
   ]
  },
  {
   "cell_type": "code",
   "execution_count": 84,
   "metadata": {},
   "outputs": [
    {
     "name": "stdout",
     "output_type": "stream",
     "text": [
      "this is a test \n"
     ]
    }
   ],
   "source": [
    "data=[ \"this\",\"is\",\"a\",\"test\"   ]\n",
    "sentence=\"\"\n",
    "for word in data:\n",
    "    sentence= sentence+ word+ \" \"\n",
    "print(sentence)\n",
    "    "
   ]
  },
  {
   "cell_type": "code",
   "execution_count": 85,
   "metadata": {},
   "outputs": [
    {
     "name": "stdout",
     "output_type": "stream",
     "text": [
      "this is a test\n"
     ]
    }
   ],
   "source": [
    "print(  \" \".join(data)   )"
   ]
  },
  {
   "cell_type": "code",
   "execution_count": 86,
   "metadata": {},
   "outputs": [
    {
     "name": "stdout",
     "output_type": "stream",
     "text": [
      "Enter your name:       Harshit Shukla      \n",
      "      Harshit Shukla      \n"
     ]
    }
   ],
   "source": [
    "#trimming of data!!!!!\n",
    "\n",
    "\n",
    "name=input(\"Enter your name: \")\n",
    "print(name)"
   ]
  },
  {
   "cell_type": "code",
   "execution_count": 87,
   "metadata": {},
   "outputs": [
    {
     "name": "stdout",
     "output_type": "stream",
     "text": [
      "Enter your name:        harshit shukla               \n",
      "harshit shukla\n"
     ]
    }
   ],
   "source": [
    "name=input(\"Enter your name: \").strip() #trip and remove spaces from start and end\n",
    "print(name)"
   ]
  },
  {
   "cell_type": "code",
   "execution_count": 90,
   "metadata": {},
   "outputs": [
    {
     "name": "stdout",
     "output_type": "stream",
     "text": [
      "Enter your name:      h  a  r s h i t shukla      \n",
      "harshitshukla\n"
     ]
    }
   ],
   "source": [
    "name=input(\"Enter your name: \").replace(\" \",\"\") #replace and remove spaces from start,middle and end\n",
    "print(name)"
   ]
  },
  {
   "cell_type": "code",
   "execution_count": 88,
   "metadata": {},
   "outputs": [
    {
     "name": "stdout",
     "output_type": "stream",
     "text": [
      "False\n"
     ]
    }
   ],
   "source": [
    "print(  \"Harshit2378\".isalpha()  )"
   ]
  },
  {
   "cell_type": "code",
   "execution_count": 89,
   "metadata": {},
   "outputs": [
    {
     "name": "stdout",
     "output_type": "stream",
     "text": [
      "True\n"
     ]
    }
   ],
   "source": [
    "print(  \"Harshit2378\".isalnum()  )"
   ]
  },
  {
   "cell_type": "code",
   "execution_count": 91,
   "metadata": {},
   "outputs": [
    {
     "name": "stdout",
     "output_type": "stream",
     "text": [
      "False\n"
     ]
    }
   ],
   "source": [
    "print(  \"Harshit2   ^ & 378\".isalnum()  )"
   ]
  },
  {
   "cell_type": "code",
   "execution_count": 93,
   "metadata": {},
   "outputs": [
    {
     "name": "stdout",
     "output_type": "stream",
     "text": [
      "enter a string: har sh i t \n",
      "SPECIAL CHARACTERS OBSERVED\n"
     ]
    }
   ],
   "source": [
    "#program for checking if input given by the user has special characters\n",
    "\n",
    "\n",
    "if   input(\"enter a string: \").isalnum():\n",
    "    print(\"No special characters found\")\n",
    "    \n",
    "else:\n",
    "    print(\"SPECIAL CHARACTERS OBSERVED\")"
   ]
  },
  {
   "cell_type": "code",
   "execution_count": 97,
   "metadata": {},
   "outputs": [
    {
     "name": "stdout",
     "output_type": "stream",
     "text": [
      "h---a---r---s---h---i---t---"
     ]
    }
   ],
   "source": [
    "#for each loop\n",
    "\n",
    "for letter in \"harshit\":\n",
    "    print(letter,end=\"---\")"
   ]
  },
  {
   "cell_type": "code",
   "execution_count": 98,
   "metadata": {},
   "outputs": [
    {
     "name": "stdout",
     "output_type": "stream",
     "text": [
      "Enter a stringharshit\n",
      "a\n",
      "i\n"
     ]
    }
   ],
   "source": [
    "#vowels in a given string:\n",
    "\n",
    "vowels=['a','e','i','o','u']\n",
    "\n",
    "#for a letter in user input converted to lower case\n",
    "for letter in input(\"Enter a string: \").lower():\n",
    "    #if the letter is also present in vowel list\n",
    "    if letter in vowels:\n",
    "        print(letter) #print the letter as it is definitely a vowel"
   ]
  },
  {
   "cell_type": "code",
   "execution_count": null,
   "metadata": {},
   "outputs": [],
   "source": [
    "#indexing and slicing\n",
    "\n",
    "\n",
    "#providing a position and fetching the character at that position\n",
    "\n"
   ]
  },
  {
   "cell_type": "code",
   "execution_count": null,
   "metadata": {},
   "outputs": [],
   "source": [
    "\n",
    "\n",
    "\n",
    "\"\"\"\n",
    "    0         1            2           3            4          5           6 \n",
    "    h         a            r           s            h          i           t\n",
    "   -7         -6           -5          -4           -3          -2        -1\n",
    "\"\"\"\n"
   ]
  },
  {
   "cell_type": "code",
   "execution_count": 100,
   "metadata": {},
   "outputs": [
    {
     "name": "stdout",
     "output_type": "stream",
     "text": [
      "i\n",
      "i\n"
     ]
    }
   ],
   "source": [
    "name=\"harshit\"\n",
    "print( name[5]  )\n",
    "print(name[-2])"
   ]
  },
  {
   "cell_type": "code",
   "execution_count": 101,
   "metadata": {},
   "outputs": [
    {
     "name": "stdout",
     "output_type": "stream",
     "text": [
      "a\n"
     ]
    }
   ],
   "source": [
    "print(name[-6])"
   ]
  },
  {
   "cell_type": "code",
   "execution_count": 102,
   "metadata": {},
   "outputs": [
    {
     "name": "stdout",
     "output_type": "stream",
     "text": [
      "har\n"
     ]
    }
   ],
   "source": [
    "#slicing part\n",
    "\n",
    "\n",
    "print(  name[  0:3:1   ]  )"
   ]
  },
  {
   "cell_type": "code",
   "execution_count": 103,
   "metadata": {},
   "outputs": [
    {
     "name": "stdout",
     "output_type": "stream",
     "text": [
      "ars\n"
     ]
    }
   ],
   "source": [
    "print(  name[  1:4:1   ]  )"
   ]
  },
  {
   "cell_type": "code",
   "execution_count": 104,
   "metadata": {},
   "outputs": [
    {
     "name": "stdout",
     "output_type": "stream",
     "text": [
      "asi\n"
     ]
    }
   ],
   "source": [
    "print(  name[  1:6:2   ]  )"
   ]
  },
  {
   "cell_type": "code",
   "execution_count": 105,
   "metadata": {},
   "outputs": [
    {
     "name": "stdout",
     "output_type": "stream",
     "text": [
      "hrh\n"
     ]
    }
   ],
   "source": [
    "print(  name[  :6:2   ]  )"
   ]
  },
  {
   "cell_type": "code",
   "execution_count": 107,
   "metadata": {},
   "outputs": [
    {
     "name": "stdout",
     "output_type": "stream",
     "text": [
      "tih\n"
     ]
    }
   ],
   "source": [
    "print(  name[  -1:-4:-1   ]  )"
   ]
  },
  {
   "cell_type": "code",
   "execution_count": 108,
   "metadata": {},
   "outputs": [
    {
     "name": "stdout",
     "output_type": "stream",
     "text": [
      "tihsrah\n"
     ]
    }
   ],
   "source": [
    "print(  name[  ::-1   ]  )"
   ]
  },
  {
   "cell_type": "code",
   "execution_count": 109,
   "metadata": {},
   "outputs": [
    {
     "name": "stdout",
     "output_type": "stream",
     "text": [
      "Enter a stringharshit shukla\n",
      "alkuhs tihsrah\n"
     ]
    }
   ],
   "source": [
    "#program to reverse a user given string\n",
    "\n",
    "\n",
    "print(   input(\"Enter a string\")[ ::-1]  )"
   ]
  },
  {
   "cell_type": "code",
   "execution_count": 111,
   "metadata": {},
   "outputs": [],
   "source": [
    "#list objects\n",
    "\n",
    "\n",
    "l1=[1,2,3,78.21,-98,78,\"harshit\",True,False, ['a','e','u']  ]"
   ]
  },
  {
   "cell_type": "code",
   "execution_count": 112,
   "metadata": {},
   "outputs": [
    {
     "name": "stdout",
     "output_type": "stream",
     "text": [
      "['a', 'e', 'u']\n"
     ]
    }
   ],
   "source": [
    "print(l1[-1])"
   ]
  },
  {
   "cell_type": "code",
   "execution_count": 113,
   "metadata": {},
   "outputs": [
    {
     "name": "stdout",
     "output_type": "stream",
     "text": [
      "[2, 3, 78.21]\n"
     ]
    }
   ],
   "source": [
    "print(   l1[1:4:1] )"
   ]
  },
  {
   "cell_type": "code",
   "execution_count": 114,
   "metadata": {},
   "outputs": [
    {
     "name": "stdout",
     "output_type": "stream",
     "text": [
      "Enter some data in string formtemp\n"
     ]
    }
   ],
   "source": [
    "data=input(\"Enter some data in string form\")\n",
    "\n",
    "l1.append(data)"
   ]
  },
  {
   "cell_type": "code",
   "execution_count": 115,
   "metadata": {},
   "outputs": [
    {
     "name": "stdout",
     "output_type": "stream",
     "text": [
      "[1, 2, 3, 78.21, -98, 78, 'harshit', True, False, ['a', 'e', 'u'], 'temp']\n"
     ]
    }
   ],
   "source": [
    "print(l1)"
   ]
  },
  {
   "cell_type": "code",
   "execution_count": 116,
   "metadata": {},
   "outputs": [
    {
     "name": "stdout",
     "output_type": "stream",
     "text": [
      "Enter some data in string formpython\n",
      "['python', 2, 3, 78.21, -98, 78, 'harshit', True, False, ['a', 'e', 'u'], 'temp']\n"
     ]
    }
   ],
   "source": [
    "l1[0] = input(\"Enter some data in string form\") #lists are mutable\n",
    "print(l1)"
   ]
  },
  {
   "cell_type": "code",
   "execution_count": 117,
   "metadata": {},
   "outputs": [],
   "source": [
    "copy_list=l1.copy() #an actual copy"
   ]
  },
  {
   "cell_type": "code",
   "execution_count": 120,
   "metadata": {},
   "outputs": [
    {
     "name": "stdout",
     "output_type": "stream",
     "text": [
      "['python', 2, 3, 78.21, -98, 78, 'harshit', True, False, ['a', 'e', 'u'], 'temp']\n",
      "['python', 2, 3, 78.21, -98, 78, 'harshit', True, False, ['a', 'e', 'u'], 'temp']\n",
      "140163718752832\n",
      "140163716094016\n"
     ]
    }
   ],
   "source": [
    "print(copy_list)\n",
    "print(l1)\n",
    "\n",
    "print(id(copy_list)) #memory address\n",
    "print(id(l1))"
   ]
  },
  {
   "cell_type": "code",
   "execution_count": 121,
   "metadata": {},
   "outputs": [
    {
     "name": "stdout",
     "output_type": "stream",
     "text": [
      "['python', 2, 3, 78.21, -98, 78, 'harshit', True, False, ['a', 'e', 'u'], 'temp']\n",
      "['python', 2, 3, 78.21, -98, 78, 'harshit', True, False, ['a', 'e', 'u'], 'temp']\n",
      "140163716094016\n",
      "140163716094016\n"
     ]
    }
   ],
   "source": [
    "temp = l1 #alternate name\n",
    "print(temp)\n",
    "print(l1)\n",
    "print(id(temp)) #memory address\n",
    "print(id(l1))"
   ]
  },
  {
   "cell_type": "code",
   "execution_count": 122,
   "metadata": {},
   "outputs": [
    {
     "name": "stdout",
     "output_type": "stream",
     "text": [
      "['XYZ', 2, 3, 78.21, -98, 78, 'harshit', True, False, ['a', 'e', 'u'], 'temp']\n",
      "['XYZ', 2, 3, 78.21, -98, 78, 'harshit', True, False, ['a', 'e', 'u'], 'temp']\n"
     ]
    }
   ],
   "source": [
    "temp[0]=\"XYZ\"\n",
    "print(temp)\n",
    "print(l1)"
   ]
  },
  {
   "cell_type": "code",
   "execution_count": null,
   "metadata": {},
   "outputs": [],
   "source": [
    "     temp--------------->[                   ]<--------------l1"
   ]
  },
  {
   "cell_type": "code",
   "execution_count": 123,
   "metadata": {},
   "outputs": [
    {
     "name": "stdout",
     "output_type": "stream",
     "text": [
      "[]\n"
     ]
    }
   ],
   "source": [
    "copy_list.clear() #removing all elements from the list. Truncating operation\n",
    "\n",
    "print(copy_list)"
   ]
  },
  {
   "cell_type": "code",
   "execution_count": 124,
   "metadata": {},
   "outputs": [
    {
     "name": "stdout",
     "output_type": "stream",
     "text": [
      "['XYZ', 2, 3, 78.21, -98, 78, 'harshit', True, False, ['a', 'e', 'u'], 'temp']\n"
     ]
    }
   ],
   "source": [
    "print( l1 )"
   ]
  },
  {
   "cell_type": "code",
   "execution_count": 125,
   "metadata": {},
   "outputs": [
    {
     "name": "stdout",
     "output_type": "stream",
     "text": [
      "['XYZ', 2, 3, 78.21, -98, 78, 'harshit', True, False, ['a', 'e', 'u'], 'temp']\n",
      "140163716094016\n",
      "['temp', ['a', 'e', 'u'], False, True, 'harshit', 78, -98, 78.21, 3, 2, 'XYZ']\n",
      "140163716094016\n"
     ]
    }
   ],
   "source": [
    "#reverse the list IN-PLACE\n",
    "print( l1 , id(l1),sep=\"\\n\")\n",
    "\n",
    "\n",
    "l1.reverse() #reverse the given list \n",
    "\n",
    "print( l1 , id(l1),sep=\"\\n\")\n",
    "\n"
   ]
  },
  {
   "cell_type": "code",
   "execution_count": null,
   "metadata": {},
   "outputs": [],
   "source": [
    "\"\"\"\n",
    "copy\n",
    "append\n",
    "clear\n",
    "reverse\n",
    "extend\n",
    "\"\"\""
   ]
  },
  {
   "cell_type": "code",
   "execution_count": 126,
   "metadata": {},
   "outputs": [
    {
     "name": "stdout",
     "output_type": "stream",
     "text": [
      "140163846034096\n"
     ]
    }
   ],
   "source": [
    "name=\"harshit\"\n",
    "print(id(name))"
   ]
  },
  {
   "cell_type": "code",
   "execution_count": 128,
   "metadata": {},
   "outputs": [
    {
     "name": "stdout",
     "output_type": "stream",
     "text": [
      "tihsrah\n",
      "140163716142960\n"
     ]
    }
   ],
   "source": [
    "copy_string=name[::-1]\n",
    "print(copy_string)\n",
    "print(id(copy_string))"
   ]
  },
  {
   "cell_type": "code",
   "execution_count": 129,
   "metadata": {},
   "outputs": [
    {
     "name": "stdout",
     "output_type": "stream",
     "text": [
      "[9, 8, 7, 6, 10, 20, 30, 40]\n"
     ]
    }
   ],
   "source": [
    "l1=[9,8,7,6]\n",
    "\n",
    "another=[  10,20,30,40 ] #separate list\n",
    "\n",
    "l1.extend(  another ) #extend the list l1 to include all values from another\n",
    "print(l1)"
   ]
  },
  {
   "cell_type": "code",
   "execution_count": null,
   "metadata": {},
   "outputs": [],
   "source": [
    "#list in python is a doubly linked list implementation"
   ]
  },
  {
   "cell_type": "code",
   "execution_count": 134,
   "metadata": {},
   "outputs": [
    {
     "name": "stdout",
     "output_type": "stream",
     "text": [
      "[9, 8, 23.4567, 23.4567, 23.4567, 23.4567, 23.4567, 7, 6, 10, 20, 30, 40]\n"
     ]
    }
   ],
   "source": [
    "#append--->add element to the end!\n",
    "\n",
    "l1.insert(2,23.4567)\n",
    "print(l1)"
   ]
  },
  {
   "cell_type": "code",
   "execution_count": 135,
   "metadata": {},
   "outputs": [
    {
     "name": "stdout",
     "output_type": "stream",
     "text": [
      "[9, 8, 23.4567, 23.4567, 23.4567, 23.4567, 7, 6, 10, 20, 30, 40]\n"
     ]
    }
   ],
   "source": [
    "#deleting an entry from the list in 2 ways\n",
    "\n",
    "#first---->specify the index \n",
    "\n",
    "l1.pop( 2 )\n",
    "print(l1)"
   ]
  },
  {
   "cell_type": "code",
   "execution_count": 136,
   "metadata": {},
   "outputs": [
    {
     "name": "stdout",
     "output_type": "stream",
     "text": [
      "[8, 23.4567, 23.4567, 23.4567, 23.4567, 7, 6, 10, 20, 30, 40]\n"
     ]
    }
   ],
   "source": [
    "l1.pop(0)\n",
    "print(l1)"
   ]
  },
  {
   "cell_type": "code",
   "execution_count": 137,
   "metadata": {},
   "outputs": [
    {
     "name": "stdout",
     "output_type": "stream",
     "text": [
      "30\n",
      "[8, 23.4567, 23.4567, 23.4567, 23.4567, 7, 6, 10, 20, 40]\n"
     ]
    }
   ],
   "source": [
    "item = l1.pop(-2)\n",
    "print(item)\n",
    "\n",
    "print(l1)"
   ]
  },
  {
   "cell_type": "code",
   "execution_count": 138,
   "metadata": {},
   "outputs": [
    {
     "name": "stdout",
     "output_type": "stream",
     "text": [
      "[8, 23.4567, 23.4567, 23.4567, 23.4567, 6, 10, 20, 40]\n"
     ]
    }
   ],
   "source": [
    "#second method-----> specify the name of the item\n",
    "\n",
    "l1.remove(7)\n",
    "print(l1)\n"
   ]
  },
  {
   "cell_type": "code",
   "execution_count": null,
   "metadata": {},
   "outputs": [],
   "source": [
    "\"\"\"\n",
    "copy\n",
    "append\n",
    "clear\n",
    "reverse\n",
    "extend\n",
    "insert\n",
    "pop\n",
    "remove\n",
    "\"\"\""
   ]
  },
  {
   "cell_type": "code",
   "execution_count": 139,
   "metadata": {},
   "outputs": [
    {
     "name": "stdout",
     "output_type": "stream",
     "text": [
      "[-19, -17, -4, 9, 10, 13, 21]\n"
     ]
    }
   ],
   "source": [
    "#sorting \n",
    "\n",
    "data=[    -19,-17,21,13,10,9,-4   ]\n",
    "\n",
    "data.sort(reverse=False) #ascending order\n",
    "\n",
    "print(data)\n"
   ]
  },
  {
   "cell_type": "code",
   "execution_count": 140,
   "metadata": {},
   "outputs": [
    {
     "name": "stdout",
     "output_type": "stream",
     "text": [
      "[21, 13, 10, 9, -4, -17, -19]\n"
     ]
    }
   ],
   "source": [
    "data=[    -19,-17,21,13,10,9,-4   ]\n",
    "\n",
    "data.sort(reverse=True) #descending order\n",
    "\n",
    "print(data)"
   ]
  },
  {
   "cell_type": "code",
   "execution_count": 142,
   "metadata": {},
   "outputs": [
    {
     "ename": "TypeError",
     "evalue": "'<' not supported between instances of 'str' and 'int'",
     "output_type": "error",
     "traceback": [
      "\u001b[0;31m---------------------------------------------------------------------------\u001b[0m",
      "\u001b[0;31mTypeError\u001b[0m                                 Traceback (most recent call last)",
      "\u001b[0;32m<ipython-input-142-9b1648953ee1>\u001b[0m in \u001b[0;36m<module>\u001b[0;34m\u001b[0m\n\u001b[1;32m      1\u001b[0m \u001b[0mtest\u001b[0m\u001b[0;34m=\u001b[0m\u001b[0;34m[\u001b[0m \u001b[0;36m1\u001b[0m\u001b[0;34m,\u001b[0m\u001b[0;34m-\u001b[0m\u001b[0;36m1\u001b[0m\u001b[0;34m,\u001b[0m\u001b[0;36m10\u001b[0m\u001b[0;34m,\u001b[0m \u001b[0;34m\"harshit\"\u001b[0m\u001b[0;34m,\u001b[0m\u001b[0;34m\"ytry\"\u001b[0m\u001b[0;34m]\u001b[0m\u001b[0;34m\u001b[0m\u001b[0;34m\u001b[0m\u001b[0m\n\u001b[1;32m      2\u001b[0m \u001b[0;34m\u001b[0m\u001b[0m\n\u001b[0;32m----> 3\u001b[0;31m \u001b[0mtest\u001b[0m\u001b[0;34m.\u001b[0m\u001b[0msort\u001b[0m\u001b[0;34m(\u001b[0m\u001b[0mreverse\u001b[0m\u001b[0;34m=\u001b[0m\u001b[0;32mFalse\u001b[0m\u001b[0;34m)\u001b[0m\u001b[0;34m\u001b[0m\u001b[0;34m\u001b[0m\u001b[0m\n\u001b[0m",
      "\u001b[0;31mTypeError\u001b[0m: '<' not supported between instances of 'str' and 'int'"
     ]
    }
   ],
   "source": [
    "#can't sort a list of string and numbers mixed\n",
    "test=[ 1,-1,10, \"harshit\",\"ytry\"]\n",
    "\n",
    "test.sort(reverse=False) #cannot sort string and integers"
   ]
  },
  {
   "cell_type": "code",
   "execution_count": 143,
   "metadata": {},
   "outputs": [
    {
     "name": "stdout",
     "output_type": "stream",
     "text": [
      "[[1, 'Akshay'], [2, 'Hiten'], [3, 'John']]\n"
     ]
    }
   ],
   "source": [
    "students=[   [1,\"Akshay\"],[3,\"John\"],[2,\"Hiten\"]                   ]\n",
    "\n",
    "students.sort(  key= lambda x : x[0]  )\n",
    "print(students)"
   ]
  },
  {
   "cell_type": "code",
   "execution_count": 144,
   "metadata": {},
   "outputs": [
    {
     "name": "stdout",
     "output_type": "stream",
     "text": [
      "[[1, 'Akshay'], [2, 'Hiten'], [3, 'John']]\n"
     ]
    }
   ],
   "source": [
    "students=[   [1,\"Akshay\"],[3,\"John\"],[2,\"Hiten\"]                   ]\n",
    "\n",
    "students.sort(  key= lambda x : x[1]  )\n",
    "print(students)"
   ]
  },
  {
   "cell_type": "code",
   "execution_count": 145,
   "metadata": {},
   "outputs": [
    {
     "name": "stdout",
     "output_type": "stream",
     "text": [
      "[[33, 'John', 18000], [11, 'Akshay', 24000], [22, 'Hiten', 50000]]\n"
     ]
    }
   ],
   "source": [
    "employees=[   [11,\"Akshay\",24000],\n",
    "              [33,\"John\",18000],\n",
    "              [22,\"Hiten\",50000] \n",
    "          ]\n",
    "\n",
    "\n",
    "#sort this list in ascending order of their salaries\n",
    "\n",
    "employees.sort(  key= lambda x : x[2]  )\n",
    "print(employees)"
   ]
  },
  {
   "cell_type": "code",
   "execution_count": 146,
   "metadata": {},
   "outputs": [
    {
     "name": "stdout",
     "output_type": "stream",
     "text": [
      "dict_keys(['id', 'name', 'age'])\n"
     ]
    }
   ],
   "source": [
    "#a dictionary is a pair of key and value\n",
    "student={  \"id\": 1 , \"name\" : \"John\", \"age\": 23 }\n",
    "\n",
    "print(  student.keys()  ) #all the keys from the dictionary\n",
    "\n"
   ]
  },
  {
   "cell_type": "code",
   "execution_count": 147,
   "metadata": {},
   "outputs": [
    {
     "name": "stdout",
     "output_type": "stream",
     "text": [
      "id\n",
      "name\n",
      "age\n"
     ]
    }
   ],
   "source": [
    "for key in student.keys():\n",
    "    print(key)"
   ]
  },
  {
   "cell_type": "code",
   "execution_count": 148,
   "metadata": {},
   "outputs": [
    {
     "name": "stdout",
     "output_type": "stream",
     "text": [
      "dict_values([1, 'John', 23])\n"
     ]
    }
   ],
   "source": [
    "print(  student.values() )"
   ]
  },
  {
   "cell_type": "code",
   "execution_count": 149,
   "metadata": {},
   "outputs": [
    {
     "name": "stdout",
     "output_type": "stream",
     "text": [
      "1\n",
      "John\n",
      "23\n"
     ]
    }
   ],
   "source": [
    "for value in student.values():\n",
    "    print(value)"
   ]
  },
  {
   "cell_type": "code",
   "execution_count": 150,
   "metadata": {},
   "outputs": [
    {
     "name": "stdout",
     "output_type": "stream",
     "text": [
      "dict_items([('id', 1), ('name', 'John'), ('age', 23)])\n"
     ]
    }
   ],
   "source": [
    "print( student.items() )"
   ]
  },
  {
   "cell_type": "code",
   "execution_count": 151,
   "metadata": {},
   "outputs": [
    {
     "name": "stdout",
     "output_type": "stream",
     "text": [
      "id----->1\n",
      "name----->John\n",
      "age----->23\n"
     ]
    }
   ],
   "source": [
    "for  key, value in student.items():\n",
    "    print(f\"{key}----->{value}\")"
   ]
  },
  {
   "cell_type": "code",
   "execution_count": 152,
   "metadata": {},
   "outputs": [
    {
     "name": "stdout",
     "output_type": "stream",
     "text": [
      "John\n"
     ]
    }
   ],
   "source": [
    "#example---->return the name of the student\n",
    "\n",
    "print( student[ 'name' ] )"
   ]
  },
  {
   "cell_type": "code",
   "execution_count": 153,
   "metadata": {},
   "outputs": [
    {
     "name": "stdout",
     "output_type": "stream",
     "text": [
      "23\n"
     ]
    }
   ],
   "source": [
    "print( student[ 'age' ] )"
   ]
  },
  {
   "cell_type": "code",
   "execution_count": 154,
   "metadata": {},
   "outputs": [
    {
     "ename": "KeyError",
     "evalue": "'xyz'",
     "output_type": "error",
     "traceback": [
      "\u001b[0;31m---------------------------------------------------------------------------\u001b[0m",
      "\u001b[0;31mKeyError\u001b[0m                                  Traceback (most recent call last)",
      "\u001b[0;32m<ipython-input-154-98d67359171c>\u001b[0m in \u001b[0;36m<module>\u001b[0;34m\u001b[0m\n\u001b[0;32m----> 1\u001b[0;31m \u001b[0mprint\u001b[0m\u001b[0;34m(\u001b[0m \u001b[0mstudent\u001b[0m\u001b[0;34m[\u001b[0m \u001b[0;34m'xyz'\u001b[0m \u001b[0;34m]\u001b[0m \u001b[0;34m)\u001b[0m\u001b[0;34m\u001b[0m\u001b[0;34m\u001b[0m\u001b[0m\n\u001b[0m",
      "\u001b[0;31mKeyError\u001b[0m: 'xyz'"
     ]
    }
   ],
   "source": [
    "print( student[ 'xyz' ] )"
   ]
  },
  {
   "cell_type": "code",
   "execution_count": 156,
   "metadata": {},
   "outputs": [
    {
     "name": "stdout",
     "output_type": "stream",
     "text": [
      "Enter your key: xyz\n"
     ]
    },
    {
     "ename": "KeyError",
     "evalue": "'xyz'",
     "output_type": "error",
     "traceback": [
      "\u001b[0;31m---------------------------------------------------------------------------\u001b[0m",
      "\u001b[0;31mKeyError\u001b[0m                                  Traceback (most recent call last)",
      "\u001b[0;32m<ipython-input-156-814cb74e5bec>\u001b[0m in \u001b[0;36m<module>\u001b[0;34m\u001b[0m\n\u001b[1;32m      3\u001b[0m \u001b[0;34m\u001b[0m\u001b[0m\n\u001b[1;32m      4\u001b[0m \u001b[0mkey1\u001b[0m\u001b[0;34m=\u001b[0m\u001b[0minput\u001b[0m\u001b[0;34m(\u001b[0m\u001b[0;34m\"Enter your key: \"\u001b[0m\u001b[0;34m)\u001b[0m\u001b[0;34m\u001b[0m\u001b[0;34m\u001b[0m\u001b[0m\n\u001b[0;32m----> 5\u001b[0;31m \u001b[0mprint\u001b[0m\u001b[0;34m(\u001b[0m\u001b[0mstudent\u001b[0m\u001b[0;34m[\u001b[0m\u001b[0mkey1\u001b[0m\u001b[0;34m]\u001b[0m\u001b[0;34m)\u001b[0m\u001b[0;34m\u001b[0m\u001b[0;34m\u001b[0m\u001b[0m\n\u001b[0m\u001b[1;32m      6\u001b[0m \u001b[0;34m\u001b[0m\u001b[0m\n\u001b[1;32m      7\u001b[0m \u001b[0mkey2\u001b[0m\u001b[0;34m=\u001b[0m\u001b[0minput\u001b[0m\u001b[0;34m(\u001b[0m\u001b[0;34m\"Enter your key: \"\u001b[0m\u001b[0;34m)\u001b[0m\u001b[0;34m\u001b[0m\u001b[0;34m\u001b[0m\u001b[0m\n",
      "\u001b[0;31mKeyError\u001b[0m: 'xyz'"
     ]
    }
   ],
   "source": [
    "#take 2 labels from the users one by one. show the corresponding values\n",
    "\n",
    "\n",
    "key1=input(\"Enter your key: \")\n",
    "print(student[key1])\n",
    "\n",
    "key2=input(\"Enter your key: \")\n",
    "print(student[key2])\n"
   ]
  },
  {
   "cell_type": "code",
   "execution_count": 157,
   "metadata": {},
   "outputs": [
    {
     "name": "stdout",
     "output_type": "stream",
     "text": [
      "Enter your key: xyz\n",
      "key not found\n",
      "Enter your key: age\n",
      "23\n"
     ]
    }
   ],
   "source": [
    "key1=input(\"Enter your key: \")\n",
    "print( student.get(key1, \"key not found\")  )\n",
    "\n",
    "key2=input(\"Enter your key: \")\n",
    "print(student.get(key2, \"key not found\"))"
   ]
  },
  {
   "cell_type": "code",
   "execution_count": 158,
   "metadata": {},
   "outputs": [
    {
     "name": "stdout",
     "output_type": "stream",
     "text": [
      "{'id': 1, 'name': 'John', 'age': 23, 'marks': [23, 45, 67]}\n"
     ]
    }
   ],
   "source": [
    "#modify / add entries to dictionary\n",
    "\n",
    "\n",
    "student.update(  {\"marks\":[   23,45,67  ] }   )\n",
    "print(student)"
   ]
  },
  {
   "cell_type": "code",
   "execution_count": 159,
   "metadata": {},
   "outputs": [
    {
     "name": "stdout",
     "output_type": "stream",
     "text": [
      "{'id': 1, 'name': 'John', 'age': 23, 'marks': [23, 45, 67], 'gender': 'male'}\n"
     ]
    }
   ],
   "source": [
    "\n",
    "student.update(  {\"gender\":\"male\" }   )\n",
    "print(student)"
   ]
  },
  {
   "cell_type": "code",
   "execution_count": 160,
   "metadata": {},
   "outputs": [
    {
     "name": "stdout",
     "output_type": "stream",
     "text": [
      "{'id': 1, 'name': 'John', 'age': 23, 'marks': [23, 45, 67], 'gender': 'DEMO DATA'}\n"
     ]
    }
   ],
   "source": [
    "student.update(  {\"gender\":\"DEMO DATA\" }   )\n",
    "print(student)"
   ]
  },
  {
   "cell_type": "code",
   "execution_count": 161,
   "metadata": {},
   "outputs": [
    {
     "data": {
      "text/plain": [
       "'DEMO DATA'"
      ]
     },
     "execution_count": 161,
     "metadata": {},
     "output_type": "execute_result"
    }
   ],
   "source": [
    "student.setdefault(  'gender', \"female\"  )"
   ]
  },
  {
   "cell_type": "code",
   "execution_count": 162,
   "metadata": {},
   "outputs": [
    {
     "name": "stdout",
     "output_type": "stream",
     "text": [
      "{'id': 1, 'name': 'John', 'age': 23, 'marks': [23, 45, 67], 'gender': 'DEMO DATA'}\n"
     ]
    }
   ],
   "source": [
    "print(student)"
   ]
  },
  {
   "cell_type": "code",
   "execution_count": 163,
   "metadata": {},
   "outputs": [
    {
     "data": {
      "text/plain": [
       "'english'"
      ]
     },
     "execution_count": 163,
     "metadata": {},
     "output_type": "execute_result"
    }
   ],
   "source": [
    "student.setdefault(  'language', \"english\"  )"
   ]
  },
  {
   "cell_type": "code",
   "execution_count": 164,
   "metadata": {},
   "outputs": [
    {
     "name": "stdout",
     "output_type": "stream",
     "text": [
      "{'id': 1, 'name': 'John', 'age': 23, 'marks': [23, 45, 67], 'gender': 'DEMO DATA', 'language': 'english'}\n"
     ]
    }
   ],
   "source": [
    "print(student)"
   ]
  },
  {
   "cell_type": "code",
   "execution_count": 165,
   "metadata": {},
   "outputs": [
    {
     "name": "stdout",
     "output_type": "stream",
     "text": [
      "DEMO DATA\n"
     ]
    }
   ],
   "source": [
    "#remove entry by specifying key\n",
    "\n",
    "removed_val =  student.pop('gender', \"KEY IS NOT FOUND\")\n",
    "print(removed_val)"
   ]
  },
  {
   "cell_type": "code",
   "execution_count": 166,
   "metadata": {},
   "outputs": [
    {
     "name": "stdout",
     "output_type": "stream",
     "text": [
      "{'id': 1, 'name': 'John', 'age': 23, 'marks': [23, 45, 67], 'language': 'english'}\n"
     ]
    }
   ],
   "source": [
    "print(student)"
   ]
  },
  {
   "cell_type": "code",
   "execution_count": 167,
   "metadata": {},
   "outputs": [
    {
     "name": "stdout",
     "output_type": "stream",
     "text": [
      "KEY IS NOT FOUND\n",
      "{'id': 1, 'name': 'John', 'age': 23, 'marks': [23, 45, 67], 'language': 'english'}\n"
     ]
    }
   ],
   "source": [
    "removed_val =  student.pop('xyz', \"KEY IS NOT FOUND\")\n",
    "print(removed_val)\n",
    "print(student)"
   ]
  },
  {
   "cell_type": "code",
   "execution_count": 168,
   "metadata": {},
   "outputs": [
    {
     "name": "stdout",
     "output_type": "stream",
     "text": [
      "('language', 'english')\n"
     ]
    }
   ],
   "source": [
    "#popitem\n",
    "\n",
    "removed_item= student.popitem()\n",
    "print(removed_item)"
   ]
  },
  {
   "cell_type": "code",
   "execution_count": 169,
   "metadata": {},
   "outputs": [
    {
     "name": "stdout",
     "output_type": "stream",
     "text": [
      "{'id': 1, 'name': 'John', 'age': 23, 'marks': [23, 45, 67]}\n"
     ]
    }
   ],
   "source": [
    "print(student)"
   ]
  },
  {
   "cell_type": "code",
   "execution_count": 176,
   "metadata": {},
   "outputs": [
    {
     "name": "stdout",
     "output_type": "stream",
     "text": [
      "{1: 'harshit', 2: 'mayur', 3: 'arun'}\n"
     ]
    }
   ],
   "source": [
    "keys=[1,2,3]\n",
    "values=[\"harshit\",\"mayur\",\"arun\"]\n",
    "\n",
    "example={}\n",
    "for k,v in zip(keys,values):\n",
    "    example.update(  { k : v  }  )\n",
    "\n",
    "print(example)"
   ]
  },
  {
   "cell_type": "code",
   "execution_count": 179,
   "metadata": {},
   "outputs": [
    {
     "name": "stdout",
     "output_type": "stream",
     "text": [
      "{'mumbai': {1: 'harshit', 2: 'mayur', 3: 'arun'}, 'delhi': {1: 'john', 2: 'mathew', 3: 'jacob'}}\n"
     ]
    }
   ],
   "source": [
    "employees={\n",
    "\"mumbai\":    {1: 'harshit', 2: 'mayur', 3: 'arun'},\n",
    "\n",
    " \"delhi\":   {1: 'john', 2: 'mathew', 3: 'jacob'}\n",
    "    \n",
    "}\n",
    "\n",
    "print(employees)"
   ]
  },
  {
   "cell_type": "code",
   "execution_count": 180,
   "metadata": {},
   "outputs": [
    {
     "data": {
      "text/html": [
       "<div>\n",
       "<style scoped>\n",
       "    .dataframe tbody tr th:only-of-type {\n",
       "        vertical-align: middle;\n",
       "    }\n",
       "\n",
       "    .dataframe tbody tr th {\n",
       "        vertical-align: top;\n",
       "    }\n",
       "\n",
       "    .dataframe thead th {\n",
       "        text-align: right;\n",
       "    }\n",
       "</style>\n",
       "<table border=\"1\" class=\"dataframe\">\n",
       "  <thead>\n",
       "    <tr style=\"text-align: right;\">\n",
       "      <th></th>\n",
       "      <th>mumbai</th>\n",
       "      <th>delhi</th>\n",
       "    </tr>\n",
       "  </thead>\n",
       "  <tbody>\n",
       "    <tr>\n",
       "      <th>1</th>\n",
       "      <td>harshit</td>\n",
       "      <td>john</td>\n",
       "    </tr>\n",
       "    <tr>\n",
       "      <th>2</th>\n",
       "      <td>mayur</td>\n",
       "      <td>mathew</td>\n",
       "    </tr>\n",
       "    <tr>\n",
       "      <th>3</th>\n",
       "      <td>arun</td>\n",
       "      <td>jacob</td>\n",
       "    </tr>\n",
       "  </tbody>\n",
       "</table>\n",
       "</div>"
      ],
      "text/plain": [
       "    mumbai   delhi\n",
       "1  harshit    john\n",
       "2    mayur  mathew\n",
       "3     arun   jacob"
      ]
     },
     "execution_count": 180,
     "metadata": {},
     "output_type": "execute_result"
    }
   ],
   "source": [
    "import pandas as pd\n",
    "pd.DataFrame(employees)\n"
   ]
  },
  {
   "cell_type": "code",
   "execution_count": 184,
   "metadata": {},
   "outputs": [],
   "source": [
    "#tuple---->immutable data type\n",
    "\n",
    "tp=(\"23.45N\",\"45.67W\")"
   ]
  },
  {
   "cell_type": "code",
   "execution_count": 185,
   "metadata": {},
   "outputs": [
    {
     "name": "stdout",
     "output_type": "stream",
     "text": [
      "('23.45N', '45.67W')\n"
     ]
    }
   ],
   "source": [
    "print(tp)"
   ]
  },
  {
   "cell_type": "code",
   "execution_count": 186,
   "metadata": {},
   "outputs": [
    {
     "name": "stdout",
     "output_type": "stream",
     "text": [
      "45.67W\n"
     ]
    }
   ],
   "source": [
    "print(tp[-1])"
   ]
  },
  {
   "cell_type": "code",
   "execution_count": 187,
   "metadata": {},
   "outputs": [
    {
     "name": "stdout",
     "output_type": "stream",
     "text": [
      "('45.67W', '23.45N')\n"
     ]
    }
   ],
   "source": [
    "print(tp[::-1])"
   ]
  },
  {
   "cell_type": "code",
   "execution_count": 188,
   "metadata": {},
   "outputs": [
    {
     "data": {
      "text/plain": [
       "1"
      ]
     },
     "execution_count": 188,
     "metadata": {},
     "output_type": "execute_result"
    }
   ],
   "source": [
    "tp.count(\"23.45N\")"
   ]
  },
  {
   "cell_type": "code",
   "execution_count": 189,
   "metadata": {},
   "outputs": [
    {
     "data": {
      "text/plain": [
       "0"
      ]
     },
     "execution_count": 189,
     "metadata": {},
     "output_type": "execute_result"
    }
   ],
   "source": [
    "tp.index(\"23.45N\")"
   ]
  },
  {
   "cell_type": "code",
   "execution_count": 190,
   "metadata": {},
   "outputs": [
    {
     "ename": "TypeError",
     "evalue": "'tuple' object does not support item assignment",
     "output_type": "error",
     "traceback": [
      "\u001b[0;31m---------------------------------------------------------------------------\u001b[0m",
      "\u001b[0;31mTypeError\u001b[0m                                 Traceback (most recent call last)",
      "\u001b[0;32m<ipython-input-190-94630f4582fe>\u001b[0m in \u001b[0;36m<module>\u001b[0;34m\u001b[0m\n\u001b[0;32m----> 1\u001b[0;31m \u001b[0mtp\u001b[0m\u001b[0;34m[\u001b[0m\u001b[0;36m0\u001b[0m\u001b[0;34m]\u001b[0m \u001b[0;34m=\u001b[0m \u001b[0;34m\"33.96N\"\u001b[0m\u001b[0;34m\u001b[0m\u001b[0;34m\u001b[0m\u001b[0m\n\u001b[0m",
      "\u001b[0;31mTypeError\u001b[0m: 'tuple' object does not support item assignment"
     ]
    }
   ],
   "source": [
    "tp[0] = \"33.96N\""
   ]
  },
  {
   "cell_type": "code",
   "execution_count": null,
   "metadata": {},
   "outputs": [],
   "source": [
    "#function is a task designed for some purpose"
   ]
  },
  {
   "cell_type": "code",
   "execution_count": 191,
   "metadata": {},
   "outputs": [],
   "source": [
    "def magic():\n",
    "    print(\"this is line 1\")\n",
    "    print(\"magic called\")"
   ]
  },
  {
   "cell_type": "code",
   "execution_count": 192,
   "metadata": {},
   "outputs": [
    {
     "name": "stdout",
     "output_type": "stream",
     "text": [
      "1\n",
      "hello\n",
      "this is line 1\n",
      "magic called\n"
     ]
    }
   ],
   "source": [
    "print(10 % 3)\n",
    "\n",
    "print(\"hello\")\n",
    "\n",
    "\n",
    "if 1 > 3:\n",
    "    print(\"do something\")\n",
    "    \n",
    "magic() \n"
   ]
  },
  {
   "cell_type": "code",
   "execution_count": 193,
   "metadata": {},
   "outputs": [],
   "source": [
    "#addition function for accepting 2 numbers and printing the result\n",
    "\n",
    "def addition(x , y):\n",
    "    print( x  + y )"
   ]
  },
  {
   "cell_type": "code",
   "execution_count": 194,
   "metadata": {},
   "outputs": [
    {
     "name": "stdout",
     "output_type": "stream",
     "text": [
      "30\n",
      "30.999000000000002\n",
      "python language\n",
      "(1, 2, 3, 4)\n"
     ]
    }
   ],
   "source": [
    "addition( 10,20   )\n",
    "\n",
    "addition( 10.21,20.789   )\n",
    "\n",
    "addition(\"python\", \" language\")\n",
    "\n",
    "addition(  (1,2) , (3,4)  )"
   ]
  },
  {
   "cell_type": "code",
   "execution_count": null,
   "metadata": {},
   "outputs": [],
   "source": [
    "l1.sort() #sort method of list class"
   ]
  },
  {
   "cell_type": "code",
   "execution_count": null,
   "metadata": {},
   "outputs": [],
   "source": [
    "sort = sorted(tp) #sorted function of python standard library\n",
    "sort"
   ]
  },
  {
   "cell_type": "code",
   "execution_count": null,
   "metadata": {},
   "outputs": [],
   "source": [
    "#addition function for accepting 2 numbers and printing the result\n",
    "\n",
    "def addition(x , y):\n",
    "    print( x  + y )"
   ]
  },
  {
   "cell_type": "code",
   "execution_count": 195,
   "metadata": {},
   "outputs": [
    {
     "name": "stdout",
     "output_type": "stream",
     "text": [
      "5\n"
     ]
    }
   ],
   "source": [
    "#subtration function for accepting 2 numbers and returning the difference\n",
    "\n",
    "def subtraction(x , y):\n",
    "    return  x  - y \n",
    "\n",
    "\n",
    "print ( subtraction(10,5) )"
   ]
  },
  {
   "cell_type": "code",
   "execution_count": 196,
   "metadata": {},
   "outputs": [
    {
     "name": "stdout",
     "output_type": "stream",
     "text": [
      "5\n",
      "-5\n"
     ]
    }
   ],
   "source": [
    "#how to pass arguments as keywords?\n",
    "\n",
    "def subtraction(x , y):\n",
    "    return  x  - y \n",
    "\n",
    "\n",
    "print( subtraction( 10, 5   ) )\n",
    "print(  subtraction(5,10) )\n"
   ]
  },
  {
   "cell_type": "code",
   "execution_count": 197,
   "metadata": {},
   "outputs": [
    {
     "name": "stdout",
     "output_type": "stream",
     "text": [
      "5\n",
      "5\n"
     ]
    }
   ],
   "source": [
    "#how to pass arguments as keywords?\n",
    "\n",
    "def subtraction(x , y):\n",
    "    return  x  - y \n",
    "\n",
    "#keyword arguments\n",
    "print( subtraction( x=10, y=5   ) )\n",
    "print(  subtraction(y=5,x=10) )\n"
   ]
  },
  {
   "cell_type": "code",
   "execution_count": 198,
   "metadata": {},
   "outputs": [
    {
     "name": "stdout",
     "output_type": "stream",
     "text": [
      "14\n",
      "14\n"
     ]
    }
   ],
   "source": [
    "#default values\n",
    "def subtraction(x=10 , y=5):\n",
    "    return  x  - y \n",
    "\n",
    "#keyword arguments\n",
    "print( subtraction( x=20, y=6   ) )\n",
    "print(  subtraction(y=6,x=0) )\n"
   ]
  },
  {
   "cell_type": "code",
   "execution_count": null,
   "metadata": {},
   "outputs": [],
   "source": [
    "l1.sort()"
   ]
  },
  {
   "cell_type": "code",
   "execution_count": 199,
   "metadata": {},
   "outputs": [
    {
     "name": "stdout",
     "output_type": "stream",
     "text": [
      "4\n"
     ]
    }
   ],
   "source": [
    "print(  subtraction(y=6) )"
   ]
  },
  {
   "cell_type": "code",
   "execution_count": 200,
   "metadata": {},
   "outputs": [
    {
     "ename": "TypeError",
     "evalue": "addition() missing 1 required positional argument: 'y'",
     "output_type": "error",
     "traceback": [
      "\u001b[0;31m---------------------------------------------------------------------------\u001b[0m",
      "\u001b[0;31mTypeError\u001b[0m                                 Traceback (most recent call last)",
      "\u001b[0;32m<ipython-input-200-dca566d4b68d>\u001b[0m in \u001b[0;36m<module>\u001b[0;34m\u001b[0m\n\u001b[0;32m----> 1\u001b[0;31m \u001b[0maddition\u001b[0m\u001b[0;34m(\u001b[0m\u001b[0;36m10\u001b[0m\u001b[0;34m)\u001b[0m\u001b[0;34m\u001b[0m\u001b[0;34m\u001b[0m\u001b[0m\n\u001b[0m",
      "\u001b[0;31mTypeError\u001b[0m: addition() missing 1 required positional argument: 'y'"
     ]
    }
   ],
   "source": [
    "addition(10) #this will not work as addition has no default"
   ]
  },
  {
   "cell_type": "code",
   "execution_count": 203,
   "metadata": {},
   "outputs": [
    {
     "name": "stdout",
     "output_type": "stream",
     "text": [
      "tuple is (10,)\n",
      "10\n",
      "tuple is (20, 10)\n",
      "30\n",
      "tuple is (30, 40, 10)\n",
      "80\n",
      "tuple is (67, -1.0, 20, 10, 20, 30)\n",
      "146.0\n",
      "tuple is ()\n",
      "0\n"
     ]
    }
   ],
   "source": [
    "#variable length arguments\n",
    "\n",
    "# def add(x,y):\n",
    "#     return x+y\n",
    "\n",
    "\n",
    "def add( *args  ):  #a tuple called args \n",
    "    print(f\"tuple is {args}\")\n",
    "    sum=0\n",
    "    for value in args:\n",
    "        sum=sum+value\n",
    "    print(sum)    \n",
    "\n",
    "add(10)\n",
    "add(20,10)\n",
    "add(30,40,10)\n",
    "add(67,18.-19,20,10,20,30)\n",
    "add()"
   ]
  },
  {
   "cell_type": "code",
   "execution_count": 207,
   "metadata": {},
   "outputs": [
    {
     "name": "stdout",
     "output_type": "stream",
     "text": [
      "tuple is (20, 30)\n",
      "50\n",
      "-40\n",
      "tuple is ()\n",
      "0\n",
      "10\n"
     ]
    },
    {
     "ename": "TypeError",
     "evalue": "subtract() missing 1 required positional argument: 'x'",
     "output_type": "error",
     "traceback": [
      "\u001b[0;31m---------------------------------------------------------------------------\u001b[0m",
      "\u001b[0;31mTypeError\u001b[0m                                 Traceback (most recent call last)",
      "\u001b[0;32m<ipython-input-207-63dc6c35d553>\u001b[0m in \u001b[0;36m<module>\u001b[0;34m\u001b[0m\n\u001b[1;32m     19\u001b[0m \u001b[0msubtract\u001b[0m\u001b[0;34m(\u001b[0m\u001b[0;36m10\u001b[0m\u001b[0;34m)\u001b[0m\u001b[0;34m\u001b[0m\u001b[0;34m\u001b[0m\u001b[0m\n\u001b[1;32m     20\u001b[0m \u001b[0;34m\u001b[0m\u001b[0m\n\u001b[0;32m---> 21\u001b[0;31m \u001b[0msubtract\u001b[0m\u001b[0;34m(\u001b[0m\u001b[0;34m)\u001b[0m\u001b[0;34m\u001b[0m\u001b[0;34m\u001b[0m\u001b[0m\n\u001b[0m",
      "\u001b[0;31mTypeError\u001b[0m: subtract() missing 1 required positional argument: 'x'"
     ]
    }
   ],
   "source": [
    "#variable length arguments\n",
    "\n",
    "# def add(x,y):\n",
    "#     return x+y\n",
    "\n",
    "\n",
    "def subtract( x,*args  ):  #a tuple called args \n",
    "    print(f\"tuple is {args}\")\n",
    "    total=0\n",
    "    for value in args:\n",
    "        total=total+value\n",
    "    print(total)  \n",
    "    \n",
    "    print(   x - total )\n",
    "\n",
    "    \n",
    "subtract( 10,20,30   )\n",
    "\n",
    "subtract(10)\n",
    "\n",
    "subtract()"
   ]
  },
  {
   "cell_type": "code",
   "execution_count": 210,
   "metadata": {},
   "outputs": [
    {
     "name": "stdout",
     "output_type": "stream",
     "text": [
      "60\n"
     ]
    }
   ],
   "source": [
    "def addition(x,y,z):\n",
    "    print(x+y+z)\n",
    "    \n",
    "tp=(10,20,30)  \n",
    "addition( *tp )"
   ]
  },
  {
   "cell_type": "code",
   "execution_count": null,
   "metadata": {},
   "outputs": [],
   "source": [
    "#first-class-function"
   ]
  },
  {
   "cell_type": "code",
   "execution_count": 211,
   "metadata": {},
   "outputs": [
    {
     "name": "stdout",
     "output_type": "stream",
     "text": [
      "<class 'function'>\n"
     ]
    }
   ],
   "source": [
    "print( type(addition))"
   ]
  },
  {
   "cell_type": "code",
   "execution_count": 212,
   "metadata": {},
   "outputs": [],
   "source": [
    "#you can do everything with a function object that you can normally do with object any other type\n",
    "\n",
    "#functions can be stored in variables\n",
    "\n",
    "f1=addition"
   ]
  },
  {
   "cell_type": "code",
   "execution_count": 213,
   "metadata": {},
   "outputs": [
    {
     "name": "stdout",
     "output_type": "stream",
     "text": [
      "60\n"
     ]
    }
   ],
   "source": [
    "addition(10,20,30)"
   ]
  },
  {
   "cell_type": "code",
   "execution_count": 214,
   "metadata": {},
   "outputs": [
    {
     "name": "stdout",
     "output_type": "stream",
     "text": [
      "60\n"
     ]
    }
   ],
   "source": [
    "f1(10,20,30)"
   ]
  },
  {
   "cell_type": "code",
   "execution_count": 215,
   "metadata": {},
   "outputs": [
    {
     "name": "stdout",
     "output_type": "stream",
     "text": [
      "60\n"
     ]
    }
   ],
   "source": [
    "f2 =  lambda x,y,z : print(x+y+z)\n",
    "\n",
    "f2(10,20,30)"
   ]
  },
  {
   "cell_type": "code",
   "execution_count": 218,
   "metadata": {},
   "outputs": [],
   "source": [
    "def helper(  l1 , f1  ):\n",
    "    for num in l1:\n",
    "        f1(num)"
   ]
  },
  {
   "cell_type": "code",
   "execution_count": 219,
   "metadata": {},
   "outputs": [],
   "source": [
    "def percent90(x):\n",
    "    print(0.9*x)\n",
    "    \n",
    "    \n",
    "def sqrt(x):\n",
    "    print(  x**(1/2) ) #any number raised to the power of 1/2 gives its square root"
   ]
  },
  {
   "cell_type": "code",
   "execution_count": 220,
   "metadata": {},
   "outputs": [
    {
     "name": "stdout",
     "output_type": "stream",
     "text": [
      "0.9\n",
      "1.8\n",
      "2.7\n",
      "3.6\n",
      "4.5\n"
     ]
    }
   ],
   "source": [
    "helper( [1,2,3,4,5] , percent90    ) ##WOW! function passed to funtion"
   ]
  },
  {
   "cell_type": "code",
   "execution_count": 221,
   "metadata": {},
   "outputs": [
    {
     "name": "stdout",
     "output_type": "stream",
     "text": [
      "1.0\n",
      "1.4142135623730951\n",
      "1.7320508075688772\n",
      "2.0\n",
      "2.23606797749979\n"
     ]
    }
   ],
   "source": [
    "helper([1,2,3,4,5], sqrt)"
   ]
  },
  {
   "cell_type": "code",
   "execution_count": 222,
   "metadata": {},
   "outputs": [
    {
     "name": "stdout",
     "output_type": "stream",
     "text": [
      "[<function sqrt at 0x7f7a40353c10>, <function percent90 at 0x7f7a40353d30>]\n"
     ]
    }
   ],
   "source": [
    "#store functions in containers??\n",
    "\n",
    "func=[  sqrt,percent90  ]\n",
    "\n",
    "print(func)"
   ]
  },
  {
   "cell_type": "code",
   "execution_count": 223,
   "metadata": {},
   "outputs": [
    {
     "name": "stdout",
     "output_type": "stream",
     "text": [
      "900.0\n"
     ]
    }
   ],
   "source": [
    "func[-1](1000.00)"
   ]
  }
 ],
 "metadata": {
  "kernelspec": {
   "display_name": "Python 3",
   "language": "python",
   "name": "python3"
  },
  "language_info": {
   "codemirror_mode": {
    "name": "ipython",
    "version": 3
   },
   "file_extension": ".py",
   "mimetype": "text/x-python",
   "name": "python",
   "nbconvert_exporter": "python",
   "pygments_lexer": "ipython3",
   "version": "3.8.6"
  }
 },
 "nbformat": 4,
 "nbformat_minor": 4
}
