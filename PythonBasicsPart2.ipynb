{
 "cells": [
  {
   "cell_type": "code",
   "execution_count": 4,
   "metadata": {},
   "outputs": [],
   "source": [
    "def outer(): #2\n",
    "    \n",
    "    def inner(): #4\n",
    "        x=10 #local variable. declared in the body of current function\n",
    "        print(x)\n",
    "        \n",
    "    inner() #3"
   ]
  },
  {
   "cell_type": "code",
   "execution_count": 5,
   "metadata": {},
   "outputs": [
    {
     "name": "stdout",
     "output_type": "stream",
     "text": [
      "10\n"
     ]
    }
   ],
   "source": [
    "outer() #1"
   ]
  },
  {
   "cell_type": "code",
   "execution_count": 6,
   "metadata": {},
   "outputs": [],
   "source": [
    "#local variables are either passed to a method/functions or defined inside it\n",
    "def outer(): #2\n",
    "    \n",
    "    def inner(y): #4\n",
    "        x=10 #local variable. declared in the body of current function\n",
    "        print(x, y , sep=\"\\n\")\n",
    "        \n",
    "    inner(\"local y\") #3"
   ]
  },
  {
   "cell_type": "code",
   "execution_count": 7,
   "metadata": {},
   "outputs": [
    {
     "name": "stdout",
     "output_type": "stream",
     "text": [
      "10\n",
      "local y\n"
     ]
    }
   ],
   "source": [
    "outer()"
   ]
  },
  {
   "cell_type": "code",
   "execution_count": null,
   "metadata": {},
   "outputs": [],
   "source": [
    "#local\n",
    "#enclosing\n",
    "#global\n",
    "#built-in"
   ]
  },
  {
   "cell_type": "code",
   "execution_count": 9,
   "metadata": {},
   "outputs": [
    {
     "name": "stdout",
     "output_type": "stream",
     "text": [
      "10\n",
      "local y\n",
      "enclosing z\n"
     ]
    }
   ],
   "source": [
    "def outer(): #2\n",
    "    \n",
    "    z=\"enclosing z\"\n",
    "    \n",
    "    def inner(y): #4\n",
    "        x=10 #local variable. declared in the body of current function\n",
    "        print(x, y , sep=\"\\n\")\n",
    "        print(z)\n",
    "    inner(\"local y\") #3\n",
    "    \n",
    "    \n",
    "outer()"
   ]
  },
  {
   "cell_type": "code",
   "execution_count": 10,
   "metadata": {},
   "outputs": [
    {
     "name": "stdout",
     "output_type": "stream",
     "text": [
      "10\n",
      "local y\n",
      "enclosing z\n",
      "global variable\n"
     ]
    }
   ],
   "source": [
    "name=\"global variable\" #global\n",
    "\n",
    "def outer(): #2\n",
    "    \n",
    "    z=\"enclosing z\"\n",
    "    \n",
    "    def inner(y): #4\n",
    "        x=10 #local variable. declared in the body of current function\n",
    "        print(x, y , sep=\"\\n\")\n",
    "        print(z)\n",
    "        print(name)\n",
    "    inner(\"local y\") #3\n",
    "    \n",
    "    \n",
    "outer()"
   ]
  },
  {
   "cell_type": "code",
   "execution_count": 12,
   "metadata": {},
   "outputs": [
    {
     "name": "stdout",
     "output_type": "stream",
     "text": [
      "local name\n"
     ]
    },
    {
     "ename": "NameError",
     "evalue": "name 'xyz' is not defined",
     "output_type": "error",
     "traceback": [
      "\u001b[0;31m---------------------------------------------------------------------------\u001b[0m",
      "\u001b[0;31mNameError\u001b[0m                                 Traceback (most recent call last)",
      "\u001b[0;32m<ipython-input-12-23ae16e6aca6>\u001b[0m in \u001b[0;36m<module>\u001b[0;34m\u001b[0m\n\u001b[1;32m     22\u001b[0m \u001b[0;34m\u001b[0m\u001b[0m\n\u001b[1;32m     23\u001b[0m \u001b[0;34m\u001b[0m\u001b[0m\n\u001b[0;32m---> 24\u001b[0;31m \u001b[0mouter\u001b[0m\u001b[0;34m(\u001b[0m\u001b[0;34m)\u001b[0m\u001b[0;34m\u001b[0m\u001b[0;34m\u001b[0m\u001b[0m\n\u001b[0m",
      "\u001b[0;32m<ipython-input-12-23ae16e6aca6>\u001b[0m in \u001b[0;36mouter\u001b[0;34m()\u001b[0m\n\u001b[1;32m     19\u001b[0m         \u001b[0mprint\u001b[0m\u001b[0;34m(\u001b[0m\u001b[0mname\u001b[0m\u001b[0;34m)\u001b[0m\u001b[0;34m\u001b[0m\u001b[0;34m\u001b[0m\u001b[0m\n\u001b[1;32m     20\u001b[0m         \u001b[0mprint\u001b[0m\u001b[0;34m(\u001b[0m\u001b[0mxyz\u001b[0m\u001b[0;34m)\u001b[0m\u001b[0;34m\u001b[0m\u001b[0;34m\u001b[0m\u001b[0m\n\u001b[0;32m---> 21\u001b[0;31m     \u001b[0minner\u001b[0m\u001b[0;34m(\u001b[0m\u001b[0;34m\"local y\"\u001b[0m\u001b[0;34m)\u001b[0m \u001b[0;31m#3\u001b[0m\u001b[0;34m\u001b[0m\u001b[0;34m\u001b[0m\u001b[0m\n\u001b[0m\u001b[1;32m     22\u001b[0m \u001b[0;34m\u001b[0m\u001b[0m\n\u001b[1;32m     23\u001b[0m \u001b[0;34m\u001b[0m\u001b[0m\n",
      "\u001b[0;32m<ipython-input-12-23ae16e6aca6>\u001b[0m in \u001b[0;36minner\u001b[0;34m(y)\u001b[0m\n\u001b[1;32m     18\u001b[0m \u001b[0;31m#         print(z)\u001b[0m\u001b[0;34m\u001b[0m\u001b[0;34m\u001b[0m\u001b[0;34m\u001b[0m\u001b[0m\n\u001b[1;32m     19\u001b[0m         \u001b[0mprint\u001b[0m\u001b[0;34m(\u001b[0m\u001b[0mname\u001b[0m\u001b[0;34m)\u001b[0m\u001b[0;34m\u001b[0m\u001b[0;34m\u001b[0m\u001b[0m\n\u001b[0;32m---> 20\u001b[0;31m         \u001b[0mprint\u001b[0m\u001b[0;34m(\u001b[0m\u001b[0mxyz\u001b[0m\u001b[0;34m)\u001b[0m\u001b[0;34m\u001b[0m\u001b[0;34m\u001b[0m\u001b[0m\n\u001b[0m\u001b[1;32m     21\u001b[0m     \u001b[0minner\u001b[0m\u001b[0;34m(\u001b[0m\u001b[0;34m\"local y\"\u001b[0m\u001b[0;34m)\u001b[0m \u001b[0;31m#3\u001b[0m\u001b[0;34m\u001b[0m\u001b[0;34m\u001b[0m\u001b[0m\n\u001b[1;32m     22\u001b[0m \u001b[0;34m\u001b[0m\u001b[0m\n",
      "\u001b[0;31mNameError\u001b[0m: name 'xyz' is not defined"
     ]
    }
   ],
   "source": [
    "#local\n",
    "#enclosing\n",
    "#global\n",
    "#built-in\n",
    "\n",
    "name=\"global variable\" #global\n",
    "\n",
    "def outer(): #2\n",
    "    \n",
    "    z=\"enclosing z\"\n",
    "    \n",
    "    def inner(y): #4\n",
    "       \n",
    "        name=\"local name\"\n",
    "        \n",
    "        x=10 #local variable. declared in the body of current function\n",
    "#         print(x, y , sep=\"\\n\")\n",
    "#         print(z)\n",
    "        print(name)\n",
    "        print(xyz)\n",
    "    inner(\"local y\") #3\n",
    "    \n",
    "    \n",
    "outer()"
   ]
  },
  {
   "cell_type": "code",
   "execution_count": 13,
   "metadata": {},
   "outputs": [
    {
     "name": "stdout",
     "output_type": "stream",
     "text": [
      "[1, 2, 3, 4, 5, 6, 7, 8, 9, 10, 11, 12, 13, 14, 15, 16, 17, 18, 19, 20, 21, 22, 23, 24, 25, 26, 27, 28, 29, 30, 31, 32, 33, 34, 35, 36, 37, 38, 39, 40, 41, 42, 43, 44, 45, 46, 47, 48, 49, 50, 51, 52, 53, 54, 55, 56, 57, 58, 59, 60, 61, 62, 63, 64, 65, 66, 67, 68, 69, 70, 71, 72, 73, 74, 75, 76, 77, 78, 79, 80, 81, 82, 83, 84, 85, 86, 87, 88, 89, 90, 91, 92, 93, 94, 95, 96, 97, 98, 99, 100]\n"
     ]
    }
   ],
   "source": [
    "#suppose , I want to create a list of first 100 natural numbers\n",
    "\n",
    "\n",
    "l1=[]\n",
    "\n",
    "for x in range(1,101,1):\n",
    "    l1.append(x)\n",
    "    \n",
    "    \n",
    "print(l1)"
   ]
  },
  {
   "cell_type": "code",
   "execution_count": 14,
   "metadata": {},
   "outputs": [
    {
     "name": "stdout",
     "output_type": "stream",
     "text": [
      "[1, 2, 3, 4, 5, 6, 7, 8, 9, 10, 11, 12, 13, 14, 15, 16, 17, 18, 19, 20, 21, 22, 23, 24, 25, 26, 27, 28, 29, 30, 31, 32, 33, 34, 35, 36, 37, 38, 39, 40, 41, 42, 43, 44, 45, 46, 47, 48, 49, 50, 51, 52, 53, 54, 55, 56, 57, 58, 59, 60, 61, 62, 63, 64, 65, 66, 67, 68, 69, 70, 71, 72, 73, 74, 75, 76, 77, 78, 79, 80, 81, 82, 83, 84, 85, 86, 87, 88, 89, 90, 91, 92, 93, 94, 95, 96, 97, 98, 99, 100]\n"
     ]
    }
   ],
   "source": [
    "#expression, conditions and range\n",
    "#type 1 expression range\n",
    "\n",
    "#s1 is a set of all elements x such that x is a natural number\n",
    "#s1= {  x | x E N  }\n",
    "\n",
    "\n",
    "\n",
    "#l1 is a list of all values x such that x is in the range of numbers 1 to 100\n",
    "l1=[   x for x in range(1,101,1)           ]\n",
    "print(l1)"
   ]
  },
  {
   "cell_type": "code",
   "execution_count": 15,
   "metadata": {},
   "outputs": [
    {
     "name": "stdout",
     "output_type": "stream",
     "text": [
      "['A', 'B', 'C', 'D', 'E', 'F', 'G', 'H', 'I', 'J', 'K', 'L', 'M', 'N', 'O', 'P', 'Q', 'R', 'S', 'T', 'U', 'V', 'W', 'X', 'Y', 'Z']\n"
     ]
    }
   ],
   "source": [
    "#alphabets\n",
    "\n",
    "\n",
    "alphabets=[   chr(x) for x in range(65,91,1)  ]\n",
    "print(alphabets)"
   ]
  },
  {
   "cell_type": "code",
   "execution_count": 16,
   "metadata": {},
   "outputs": [
    {
     "name": "stdout",
     "output_type": "stream",
     "text": [
      "['h', 'a', 'r', 's', 'h', 'i', 't', ' ', 's', 'h', 'u', 'k', 'l', 'a']\n"
     ]
    }
   ],
   "source": [
    "name=\"harshit shukla\"\n",
    "\n",
    "\n",
    "demo=[  letter for letter in name  ]\n",
    "print(demo)"
   ]
  },
  {
   "cell_type": "code",
   "execution_count": 17,
   "metadata": {},
   "outputs": [
    {
     "name": "stdout",
     "output_type": "stream",
     "text": [
      "[4, 8, 12, 16, 20, 24, 28, 32, 36, 40, 44, 48, 52, 56, 60, 64, 68, 72, 76, 80, 84, 88, 92, 96, 100]\n"
     ]
    }
   ],
   "source": [
    "#type 2   expression range if condition part\n",
    "\n",
    "\n",
    "#list of numbers divisible by 4 between 1 to 100(both inclusive)\n",
    "\n",
    "\n",
    "div_4=[  x for x in range(1,101,1) if x%4==0 ]\n",
    "print(div_4)"
   ]
  },
  {
   "cell_type": "code",
   "execution_count": 19,
   "metadata": {},
   "outputs": [
    {
     "name": "stdout",
     "output_type": "stream",
     "text": [
      "[21, 28, 35, 42, 49]\n"
     ]
    }
   ],
   "source": [
    "#list of all numbers divisible by 7 and greater than 20 between 1 and 50 (both inclusive)\n",
    "\n",
    "div_7=[  x for x in range(1,51,1) if x%7==0 and x > 20 ]\n",
    "print(div_7)\n"
   ]
  },
  {
   "cell_type": "code",
   "execution_count": 20,
   "metadata": {},
   "outputs": [
    {
     "name": "stdout",
     "output_type": "stream",
     "text": [
      "['a', 'i']\n"
     ]
    }
   ],
   "source": [
    "#list of vowels from a given name\n",
    "\n",
    "vowels=['a','e','i','o','u']\n",
    "\n",
    "name=\"harshit\"\n",
    "vowel_chars=[  letter for letter in name if letter in vowels ]\n",
    "print(vowel_chars)"
   ]
  },
  {
   "cell_type": "code",
   "execution_count": 22,
   "metadata": {},
   "outputs": [
    {
     "name": "stdout",
     "output_type": "stream",
     "text": [
      "Enter a name: harshit\n",
      "['a', 'i']\n"
     ]
    }
   ],
   "source": [
    "#list of vowels from a given name\n",
    "\n",
    "vowels=['a','e','i','o','u']\n",
    "\n",
    "vowel_chars=[  letter for letter in input(\"Enter a name: \") if letter in vowels ]\n",
    "print(vowel_chars)"
   ]
  },
  {
   "cell_type": "code",
   "execution_count": 23,
   "metadata": {},
   "outputs": [
    {
     "name": "stdout",
     "output_type": "stream",
     "text": [
      "['No', 'Yes', 'No', 'Yes', 'No', 'Yes', 'No', 'Yes', 'No', 'Yes', 'No', 'Yes', 'No', 'Yes', 'No', 'Yes', 'No', 'Yes', 'No', 'Yes']\n"
     ]
    }
   ],
   "source": [
    "#type 3  expression  if -else block  range\n",
    "\n",
    "#list of values \"Yes\" and \"No\" where yes corresponds to even numbers and no corresponds to odd numbers between \n",
    "#1 and 20\n",
    "\n",
    "\n",
    "ans=[  \"Yes\" if num%2==0 else \"No\" for num in range(1,21,1)   ]\n",
    "print(ans)"
   ]
  },
  {
   "cell_type": "code",
   "execution_count": 27,
   "metadata": {},
   "outputs": [],
   "source": [
    "class Student:\n",
    "    \n",
    "    \n",
    "    #constructor! #dunder methods\n",
    "    def __init__(self,name, sid):\n",
    "        self.s_name=name\n",
    "        self.s_id=sid\n",
    "                \n",
    "s1=Student(sid=1,name=\"Harshit\")\n",
    "s2=Student(sid=2,name=\"John\")\n",
    "s3=Student(sid=3,name=\"Smith\")\n",
    "\n"
   ]
  },
  {
   "cell_type": "code",
   "execution_count": 29,
   "metadata": {},
   "outputs": [
    {
     "name": "stdout",
     "output_type": "stream",
     "text": [
      "{'s_name': 'Harshit', 's_id': 1}\n",
      "{'s_name': 'John', 's_id': 2}\n"
     ]
    }
   ],
   "source": [
    "print(  vars(s1)  )\n",
    "print(  vars(s2))"
   ]
  },
  {
   "cell_type": "code",
   "execution_count": 30,
   "metadata": {},
   "outputs": [
    {
     "name": "stdout",
     "output_type": "stream",
     "text": [
      "<__main__.Student object at 0x7f9c786aadf0>\n"
     ]
    }
   ],
   "source": [
    "print(s1)"
   ]
  },
  {
   "cell_type": "code",
   "execution_count": 31,
   "metadata": {},
   "outputs": [
    {
     "name": "stdout",
     "output_type": "stream",
     "text": [
      "{'s_name': 'Harshit', 's_id': 1}\n"
     ]
    }
   ],
   "source": [
    "class Student:\n",
    "    \n",
    "    \n",
    "    #constructor! #dunder methods\n",
    "    def __init__(self,name, sid):\n",
    "        self.s_name=name\n",
    "        self.s_id=sid\n",
    "                \n",
    "            \n",
    "    def __repr__(self):\n",
    "        return f\"{vars(self)}\"\n",
    "    \n",
    "    \n",
    "    \n",
    "s1=Student(sid=1,name=\"Harshit\")\n",
    "s2=Student(sid=2,name=\"John\")\n",
    "s3=Student(sid=3,name=\"Smith\")\n",
    "\n",
    "print(s1) #works now!"
   ]
  },
  {
   "cell_type": "code",
   "execution_count": 34,
   "metadata": {},
   "outputs": [
    {
     "name": "stdout",
     "output_type": "stream",
     "text": [
      "<------{'s_name': 'Harshit', 's_id': 1}------>\n"
     ]
    }
   ],
   "source": [
    "\n",
    "#<------student{'s_name': 'Harshit', 's_id': 1}------>\n",
    "\n",
    "class Student:\n",
    "    \n",
    "    \n",
    "    #constructor! #dunder methods\n",
    "    def __init__(self,name, sid):\n",
    "        self.s_name=name\n",
    "        self.s_id=sid\n",
    "                \n",
    "            \n",
    "    def __repr__(self):\n",
    "        return f\"<------{vars(self)}------>\"\n",
    "    \n",
    "    \n",
    "    \n",
    "s1=Student(sid=1,name=\"Harshit\")\n",
    "s2=Student(sid=2,name=\"John\")\n",
    "s3=Student(sid=3,name=\"Smith\")\n",
    "\n",
    "print(s1) #works now!"
   ]
  },
  {
   "cell_type": "code",
   "execution_count": 37,
   "metadata": {},
   "outputs": [
    {
     "name": "stdout",
     "output_type": "stream",
     "text": [
      "<------Name: Harshit, ID: 1------>\n"
     ]
    }
   ],
   "source": [
    "\n",
    "#<------student{'s_name': 'Harshit', 's_id': 1}------>\n",
    "\n",
    "class Student:\n",
    "    \n",
    "    \n",
    "    #constructor! #dunder methods\n",
    "    def __init__(self,name, sid):\n",
    "        self.s_name=name\n",
    "        self.s_id=sid\n",
    "                \n",
    "            \n",
    "    def __repr__(self):\n",
    "        return f\"<------Name: {self.s_name}, ID: {self.s_id}------>\"\n",
    "    \n",
    "    \n",
    "    \n",
    "s1=Student(sid=1,name=\"Harshit\")\n",
    "s2=Student(sid=2,name=\"John\")\n",
    "s3=Student(sid=3,name=\"Smith\")\n",
    "\n",
    "print(s1) #works now!"
   ]
  },
  {
   "cell_type": "code",
   "execution_count": 40,
   "metadata": {},
   "outputs": [
    {
     "name": "stdout",
     "output_type": "stream",
     "text": [
      "<------Name: Harshit, ID: 1 GPA: 3.6------>\n",
      "After changing name\n",
      "<------Name: Harshit Pradeep Shukla, ID: 1 GPA: 3.6------>\n"
     ]
    }
   ],
   "source": [
    "\n",
    "#<------student{'s_name': 'Harshit', 's_id': 1}------>\n",
    "#s_gpa\n",
    "class Student:\n",
    "    \n",
    "    \n",
    "    #constructor! #dunder methods\n",
    "    def __init__(self,name, sid,gpa):\n",
    "        self.s_name=name\n",
    "        self.s_id=sid\n",
    "        self.s_gpa=gpa\n",
    "                \n",
    "            \n",
    "    def __repr__(self):\n",
    "        return f\"<------Name: {self.s_name}, ID: {self.s_id} GPA: {self.s_gpa}------>\"\n",
    "    \n",
    "    \n",
    "    def changeName(self,new_name):\n",
    "        self.s_name = new_name\n",
    "    \n",
    "    \n",
    "\n",
    "s1=Student(sid=1,name=\"Harshit\",gpa=3.6)\n",
    "\n",
    "\n",
    "print(s1) #works now!\n",
    "\n",
    "\n",
    "s1.changeName(\"Harshit Pradeep Shukla\")\n",
    "\n",
    "print(\"After changing name\",s1,sep=\"\\n\")"
   ]
  },
  {
   "cell_type": "code",
   "execution_count": null,
   "metadata": {},
   "outputs": [],
   "source": [
    "# create a class Employee which has 3 properties ename, eid and esalary\n",
    "\n",
    "# add a suitable representation mechanism of your own choice\n",
    "\n",
    "# create a method raiseSalary that increases the salary of the current object by 10 % of its original value"
   ]
  },
  {
   "cell_type": "code",
   "execution_count": 47,
   "metadata": {},
   "outputs": [
    {
     "name": "stdout",
     "output_type": "stream",
     "text": [
      "27547765\n"
     ]
    }
   ],
   "source": [
    "class Student:\n",
    "      \n",
    "    #class variable    \n",
    "    School_Name=\"TJSC\" #common for the entire class\n",
    "    landline_number=27547765\n",
    "    \n",
    "    \n",
    "    #special dunder method\n",
    "    def __init__(self,name, sid,gpa): #constructor\n",
    "        \n",
    "        #instance variables\n",
    "        self.s_name=name\n",
    "        self.s_id=sid\n",
    "        self.s_gpa=gpa\n",
    "                \n",
    "            \n",
    "    #special dunder method\n",
    "    def __repr__(self):\n",
    "        return f\"<------Name: {self.s_name}, ID: {self.s_id} GPA: {self.s_gpa}------>\"\n",
    "    \n",
    "   \n",
    "    #instance methods        \n",
    "    def changeName(self,new_name):\n",
    "        self.s_name = new_name\n",
    "    \n",
    "    \n",
    "\n",
    "s1=Student(sid=1,name=\"Harshit\",gpa=3.6)\n",
    "s2=Student(sid=2,name=\"John\",gpa=3.7)\n",
    "\n",
    "print(s1.landline_number)\n"
   ]
  },
  {
   "cell_type": "code",
   "execution_count": 48,
   "metadata": {},
   "outputs": [],
   "source": [
    "Student.landline_number = 33345678"
   ]
  },
  {
   "cell_type": "code",
   "execution_count": 49,
   "metadata": {},
   "outputs": [
    {
     "name": "stdout",
     "output_type": "stream",
     "text": [
      "33345678\n"
     ]
    }
   ],
   "source": [
    "print(s1.landline_number)"
   ]
  },
  {
   "cell_type": "code",
   "execution_count": null,
   "metadata": {},
   "outputs": [],
   "source": [
    "#class methods"
   ]
  },
  {
   "cell_type": "code",
   "execution_count": 55,
   "metadata": {},
   "outputs": [
    {
     "name": "stdout",
     "output_type": "stream",
     "text": [
      "1..Name: Sukesh, 2..ID: 1, 3..Salary: 10000\n",
      "1..Name: Sukesh, 2..ID: 1, 3..Salary: 11000.0\n"
     ]
    }
   ],
   "source": [
    "class Employee:\n",
    "    \n",
    "    factor=0.1\n",
    "    \n",
    "    def __init__(self,name,eid,sal):\n",
    "        self.e_name = name\n",
    "        self.e_eid = eid\n",
    "        self.e_sal = sal\n",
    "    def __repr__(self):\n",
    "        return f\"1..Name: {self.e_name}, 2..ID: {self.e_eid}, 3..Salary: {self.e_sal}\"\n",
    "    \n",
    "    #instance method\n",
    "    def raiseSalary(self):\n",
    "        self.e_sal = self.e_sal + self.e_sal*Employee.factor\n",
    "        \n",
    "    \n",
    "    @classmethod\n",
    "    def changeFactor(cls,new_factor):\n",
    "        cls.factor=new_factor\n",
    "\n",
    "e1= Employee(eid=1,name=\"Sukesh\", sal=10000)\n",
    "print(e1)\n",
    "e1.raiseSalary()\n",
    "print(e1)"
   ]
  },
  {
   "cell_type": "code",
   "execution_count": 56,
   "metadata": {},
   "outputs": [
    {
     "name": "stdout",
     "output_type": "stream",
     "text": [
      "1..Name: Sukesh, 2..ID: 1, 3..Salary: 15400.0\n"
     ]
    }
   ],
   "source": [
    "Employee.changeFactor(0.4) #changing attribute of the class!\n",
    "\n",
    "e1.raiseSalary()\n",
    "print(e1)"
   ]
  },
  {
   "cell_type": "code",
   "execution_count": null,
   "metadata": {},
   "outputs": [],
   "source": [
    "#Note\n",
    "\n",
    "#Class variables MUST be modified by class methods\n",
    "#instance variables need to be modifed by instance method"
   ]
  },
  {
   "cell_type": "code",
   "execution_count": 57,
   "metadata": {},
   "outputs": [
    {
     "name": "stdout",
     "output_type": "stream",
     "text": [
      "27547765\n",
      "27547765\n"
     ]
    }
   ],
   "source": [
    "class Student:\n",
    "      \n",
    "    #class variable    \n",
    "    School_Name=\"TJSC\" #common for the entire class\n",
    "    landline_number=27547765\n",
    "    \n",
    "    \n",
    "    #special dunder method\n",
    "    def __init__(self,name, sid,gpa): #constructor\n",
    "        \n",
    "        #instance variables\n",
    "        self.s_name=name\n",
    "        self.s_id=sid\n",
    "        self.s_gpa=gpa\n",
    "                \n",
    "            \n",
    "    #special dunder method\n",
    "    def __repr__(self):\n",
    "        return f\"<------Name: {self.s_name}, ID: {self.s_id} GPA: {self.s_gpa}------>\"\n",
    "    \n",
    "   \n",
    "    #instance methods        \n",
    "    def changeName(self,new_name):\n",
    "        self.s_name = new_name\n",
    "    \n",
    "    \n",
    "\n",
    "s1=Student(sid=1,name=\"Harshit\",gpa=3.6)\n",
    "s2=Student(sid=2,name=\"John\",gpa=3.7)\n",
    "\n",
    "print(s1.landline_number,s2.landline_number,sep=\"\\n\") \n",
    "\n"
   ]
  },
  {
   "cell_type": "code",
   "execution_count": 58,
   "metadata": {},
   "outputs": [
    {
     "name": "stdout",
     "output_type": "stream",
     "text": [
      "33456789\n",
      "33456789\n"
     ]
    }
   ],
   "source": [
    "#change class variable, such that ALL OBJECTS SEE THE NEW CHANGE\n",
    "\n",
    "Student.landline_number = 33456789 #IMP\n",
    "\n",
    "\n",
    "print(s1.landline_number,s2.landline_number,sep=\"\\n\") \n",
    "\n"
   ]
  },
  {
   "cell_type": "code",
   "execution_count": 59,
   "metadata": {},
   "outputs": [
    {
     "name": "stdout",
     "output_type": "stream",
     "text": [
      "11111111\n",
      "33456789\n"
     ]
    }
   ],
   "source": [
    "s1.landline_number = 11111111\n",
    "\n",
    "print(s1.landline_number,s2.landline_number,sep=\"\\n\") \n"
   ]
  },
  {
   "cell_type": "code",
   "execution_count": 60,
   "metadata": {},
   "outputs": [
    {
     "name": "stdout",
     "output_type": "stream",
     "text": [
      "{'s_name': 'Harshit', 's_id': 1, 's_gpa': 3.6, 'landline_number': 11111111}\n",
      "{'s_name': 'John', 's_id': 2, 's_gpa': 3.7}\n"
     ]
    }
   ],
   "source": [
    "print(vars(s1))\n",
    "print(vars(s2))"
   ]
  },
  {
   "cell_type": "code",
   "execution_count": null,
   "metadata": {},
   "outputs": [],
   "source": [
    "Employee\n",
    "\n",
    "Manager Directors Executives"
   ]
  },
  {
   "cell_type": "code",
   "execution_count": 71,
   "metadata": {},
   "outputs": [
    {
     "name": "stdout",
     "output_type": "stream",
     "text": [
      "INSIDE CHILD\n",
      "Department set\n",
      "INSIDE PARENT\n",
      "Enter a factor: 0.6\n",
      "46400.0\n",
      "Department: IT 1..Name: john, 2..ID: 10, 3..Salary: 46400.0\n"
     ]
    }
   ],
   "source": [
    "class Employee:\n",
    "    \n",
    "    factor=0.1\n",
    "    \n",
    "    def __init__(self,ename,eid,esal):\n",
    "        print(\"INSIDE PARENT\")\n",
    "        self.e_name = ename\n",
    "        self.e_eid = eid\n",
    "        self.e_sal = esal\n",
    "    def __repr__(self):\n",
    "        return f\"1..Name: {self.e_name}, 2..ID: {self.e_eid}, 3..Salary: {self.e_sal}\"\n",
    "    \n",
    "    #instance method\n",
    "    def raiseSalary(self):\n",
    "        self.e_sal = self.e_sal + self.e_sal*Employee.factor\n",
    "        \n",
    "    \n",
    "    @classmethod\n",
    "    def changeFactor(cls,new_factor):\n",
    "        cls.factor=new_factor\n",
    "\n",
    "class Manager(Employee):\n",
    "    factor=0.1\n",
    "    \n",
    "    def __init__(self,department,eid,esal,ename):\n",
    "        print(\"INSIDE CHILD\")\n",
    "        self.department = department\n",
    "        print(\"Department set\")\n",
    "        super().__init__(ename=ename,esal=esal, eid=eid )\n",
    "        \n",
    "        \n",
    "    def __repr__(self):\n",
    "        return f\"Department: {self.department} {super().__repr__()}\"\n",
    "\n",
    "   \"\"\"\n",
    "   method overriding-->concept of changing an inherited method inside the child\n",
    "   \"\"\"  \n",
    "    def raiseSalary(self):\n",
    "        data=float(input(\"Enter a factor: \"))\n",
    "        self.e_sal = self.e_sal + self.e_sal*data\n",
    "        \n",
    "        \n",
    "m1=Manager(department=\"IT\",eid=10,esal=29000,ename=\"john\")\n",
    "m1.raiseSalary()\n",
    "print(m1.e_sal)\n",
    "print(m1)"
   ]
  },
  {
   "cell_type": "code",
   "execution_count": null,
   "metadata": {},
   "outputs": [],
   "source": [
    "\"\"\"\n",
    "Types of inheritance\n",
    "1)single inheritance----> only one parent, 2 levels--> parent and child\n",
    "\n",
    "2) Multi-level inheritance---> more than 2 levels. Possibility of parent, grand parent, great grandparent and so on\n",
    "\"\"\""
   ]
  },
  {
   "cell_type": "code",
   "execution_count": 79,
   "metadata": {},
   "outputs": [
    {
     "name": "stdout",
     "output_type": "stream",
     "text": [
      "INSIDE CHILD\n",
      "Department set\n",
      "INSIDE PARENT\n",
      "Department: IT 1..Name: Joseph, 2..ID: 101, 3..Salary: 101000 Secretary:Ajay Equity:45.0\n"
     ]
    }
   ],
   "source": [
    "class Employee:\n",
    "    \n",
    "    factor=0.1\n",
    "    \n",
    "    def __init__(self,ename,eid,esal):\n",
    "        print(\"INSIDE PARENT\")\n",
    "        self.e_name = ename\n",
    "        self.e_eid = eid\n",
    "        self.e_sal = esal\n",
    "    def __repr__(self):\n",
    "        return f\"1..Name: {self.e_name}, 2..ID: {self.e_eid}, 3..Salary: {self.e_sal}\"\n",
    "    \n",
    "    #instance method\n",
    "    def raiseSalary(self):\n",
    "        self.e_sal = self.e_sal + self.e_sal*Employee.factor\n",
    "        \n",
    "    \n",
    "    @classmethod\n",
    "    def changeFactor(cls,new_factor):\n",
    "        cls.factor=new_factor\n",
    "\n",
    "class Manager(Employee):\n",
    "    factor=0.1\n",
    "    \n",
    "    def __init__(self,department,eid,esal,ename):\n",
    "        print(\"INSIDE CHILD\")\n",
    "        self.department = department\n",
    "        print(\"Department set\")\n",
    "        super().__init__(ename=ename,esal=esal, eid=eid )\n",
    "        \n",
    "        \n",
    "    def __repr__(self):\n",
    "        return f\"Department: {self.department} {super().__repr__()}\"\n",
    "\n",
    "   \n",
    "    def raiseSalary(self):\n",
    "        data=float(input(\"Enter a factor: \"))\n",
    "        self.e_sal = self.e_sal + self.e_sal*data\n",
    "        \n",
    "\n",
    "class Director(Manager):\n",
    "    \n",
    "    \n",
    "    def __init__(self, secretary_name, equity_percent,department, eid, esal, ename):\n",
    "        self.secretary_name = secretary_name\n",
    "        self.equity_percent = equity_percent\n",
    "        super().__init__( department, eid, esal, ename)\n",
    "\n",
    "    def __repr__(self):\n",
    "        return f\"{super().__repr__()} Secretary:{self.secretary_name} Equity:{self.equity_percent}\"\n",
    "    \n",
    "\n",
    "d1=Director(secretary_name=\"Ajay\", equity_percent= 45.00, department=\"IT\",eid=101,esal=101000, ename=\"Joseph\")\n",
    "print(d1)"
   ]
  },
  {
   "cell_type": "code",
   "execution_count": null,
   "metadata": {},
   "outputs": [],
   "source": [
    "\"\"\"\n",
    "Types of inheritance\n",
    "1)single inheritance----> only one parent, 2 levels--> parent and child\n",
    "\n",
    "2) Multi-level inheritance---> more than 2 levels. Possibility of parent, grand parent, great grandparent \n",
    "and so on\n",
    "\n",
    "3) Multiple Inheritance---> More than 1 immediate parent classes for a child\n",
    "\"\"\""
   ]
  },
  {
   "cell_type": "code",
   "execution_count": 81,
   "metadata": {},
   "outputs": [
    {
     "name": "stdout",
     "output_type": "stream",
     "text": [
      "Language: Hindi Surname: Singh\n"
     ]
    }
   ],
   "source": [
    "class Mother:\n",
    "    mother_tongue= \"Hindi\"\n",
    "    \n",
    "    \n",
    "class Father:\n",
    "    lastName=\"Singh\"\n",
    "    \n",
    "    \n",
    "class Child(Mother, Father):\n",
    "    \n",
    "    def __repr__(self):\n",
    "        return f\"Language: {Child.mother_tongue} Surname: {Child.lastName}\"\n",
    "    \n",
    "    \n",
    "c1=Child()\n",
    "\n",
    "print(c1)"
   ]
  },
  {
   "cell_type": "code",
   "execution_count": 82,
   "metadata": {},
   "outputs": [
    {
     "name": "stdout",
     "output_type": "stream",
     "text": [
      "hello\n",
      "30\n"
     ]
    },
    {
     "ename": "TypeError",
     "evalue": "unsupported operand type(s) for +: 'int' and 'str'",
     "output_type": "error",
     "traceback": [
      "\u001b[0;31m---------------------------------------------------------------------------\u001b[0m",
      "\u001b[0;31mTypeError\u001b[0m                                 Traceback (most recent call last)",
      "\u001b[0;32m<ipython-input-82-f00763f35634>\u001b[0m in \u001b[0;36m<module>\u001b[0;34m\u001b[0m\n\u001b[1;32m      4\u001b[0m \u001b[0;34m\u001b[0m\u001b[0m\n\u001b[1;32m      5\u001b[0m \u001b[0;34m\u001b[0m\u001b[0m\n\u001b[0;32m----> 6\u001b[0;31m \u001b[0mprint\u001b[0m\u001b[0;34m(\u001b[0m \u001b[0;36m10\u001b[0m \u001b[0;34m+\u001b[0m\u001b[0;34m\"harshit\"\u001b[0m\u001b[0;34m)\u001b[0m\u001b[0;34m\u001b[0m\u001b[0;34m\u001b[0m\u001b[0m\n\u001b[0m\u001b[1;32m      7\u001b[0m \u001b[0;34m\u001b[0m\u001b[0m\n\u001b[1;32m      8\u001b[0m \u001b[0;34m\u001b[0m\u001b[0m\n",
      "\u001b[0;31mTypeError\u001b[0m: unsupported operand type(s) for +: 'int' and 'str'"
     ]
    }
   ],
   "source": [
    "#exception handling\n",
    "\n",
    "print(\"hello\")\n",
    "\n",
    "print( 10+20  )\n",
    "\n",
    "\n",
    "print( 10 + \"harshit\")\n",
    "\n",
    "\n",
    "print(  20 + 30 )"
   ]
  },
  {
   "cell_type": "code",
   "execution_count": 83,
   "metadata": {},
   "outputs": [
    {
     "ename": "ZeroDivisionError",
     "evalue": "division by zero",
     "output_type": "error",
     "traceback": [
      "\u001b[0;31m---------------------------------------------------------------------------\u001b[0m",
      "\u001b[0;31mZeroDivisionError\u001b[0m                         Traceback (most recent call last)",
      "\u001b[0;32m<ipython-input-83-8086fce235bb>\u001b[0m in \u001b[0;36m<module>\u001b[0;34m\u001b[0m\n\u001b[0;32m----> 1\u001b[0;31m \u001b[0mprint\u001b[0m\u001b[0;34m(\u001b[0m \u001b[0;36m10\u001b[0m \u001b[0;34m/\u001b[0m \u001b[0;36m0\u001b[0m \u001b[0;34m)\u001b[0m\u001b[0;34m\u001b[0m\u001b[0;34m\u001b[0m\u001b[0m\n\u001b[0m",
      "\u001b[0;31mZeroDivisionError\u001b[0m: division by zero"
     ]
    }
   ],
   "source": [
    "print( 10 / 0 )"
   ]
  },
  {
   "cell_type": "code",
   "execution_count": 84,
   "metadata": {},
   "outputs": [
    {
     "ename": "AttributeError",
     "evalue": "'list' object has no attribute 'split'",
     "output_type": "error",
     "traceback": [
      "\u001b[0;31m---------------------------------------------------------------------------\u001b[0m",
      "\u001b[0;31mAttributeError\u001b[0m                            Traceback (most recent call last)",
      "\u001b[0;32m<ipython-input-84-cac7627171c6>\u001b[0m in \u001b[0;36m<module>\u001b[0;34m\u001b[0m\n\u001b[1;32m      1\u001b[0m \u001b[0ml1\u001b[0m\u001b[0;34m=\u001b[0m\u001b[0;34m[\u001b[0m\u001b[0;36m1\u001b[0m\u001b[0;34m,\u001b[0m\u001b[0;36m2\u001b[0m\u001b[0;34m,\u001b[0m\u001b[0;36m3\u001b[0m\u001b[0;34m,\u001b[0m\u001b[0;36m4\u001b[0m\u001b[0;34m,\u001b[0m\u001b[0;36m5\u001b[0m\u001b[0;34m]\u001b[0m\u001b[0;34m\u001b[0m\u001b[0;34m\u001b[0m\u001b[0m\n\u001b[1;32m      2\u001b[0m \u001b[0;34m\u001b[0m\u001b[0m\n\u001b[0;32m----> 3\u001b[0;31m \u001b[0ml1\u001b[0m\u001b[0;34m.\u001b[0m\u001b[0msplit\u001b[0m\u001b[0;34m(\u001b[0m\u001b[0;34m)\u001b[0m\u001b[0;34m\u001b[0m\u001b[0;34m\u001b[0m\u001b[0m\n\u001b[0m\u001b[1;32m      4\u001b[0m \u001b[0;31m#string class function on list object?\u001b[0m\u001b[0;34m\u001b[0m\u001b[0;34m\u001b[0m\u001b[0;34m\u001b[0m\u001b[0m\n",
      "\u001b[0;31mAttributeError\u001b[0m: 'list' object has no attribute 'split'"
     ]
    }
   ],
   "source": [
    "l1=[1,2,3,4,5]\n",
    "\n",
    "l1.split()\n",
    "#string class function on list object?\n",
    "\n",
    "#when you call a method / access a property which is not applicable for given object"
   ]
  },
  {
   "cell_type": "code",
   "execution_count": 85,
   "metadata": {},
   "outputs": [
    {
     "name": "stdout",
     "output_type": "stream",
     "text": [
      "Enter a number hhjkkdslfjljgldskjg\n"
     ]
    },
    {
     "ename": "ValueError",
     "evalue": "invalid literal for int() with base 10: 'hhjkkdslfjljgldskjg'",
     "output_type": "error",
     "traceback": [
      "\u001b[0;31m---------------------------------------------------------------------------\u001b[0m",
      "\u001b[0;31mValueError\u001b[0m                                Traceback (most recent call last)",
      "\u001b[0;32m<ipython-input-85-4d45652f3b2b>\u001b[0m in \u001b[0;36m<module>\u001b[0;34m\u001b[0m\n\u001b[0;32m----> 1\u001b[0;31m \u001b[0mint\u001b[0m\u001b[0;34m(\u001b[0m\u001b[0minput\u001b[0m\u001b[0;34m(\u001b[0m\u001b[0;34m\"Enter a number \"\u001b[0m\u001b[0;34m)\u001b[0m\u001b[0;34m)\u001b[0m\u001b[0;34m\u001b[0m\u001b[0;34m\u001b[0m\u001b[0m\n\u001b[0m",
      "\u001b[0;31mValueError\u001b[0m: invalid literal for int() with base 10: 'hhjkkdslfjljgldskjg'"
     ]
    }
   ],
   "source": [
    "int(input(\"Enter a number \"))"
   ]
  },
  {
   "cell_type": "code",
   "execution_count": 86,
   "metadata": {},
   "outputs": [
    {
     "data": {
      "text/plain": [
       "65"
      ]
     },
     "execution_count": 86,
     "metadata": {},
     "output_type": "execute_result"
    }
   ],
   "source": [
    "ord('A')"
   ]
  },
  {
   "cell_type": "code",
   "execution_count": 90,
   "metadata": {},
   "outputs": [
    {
     "name": "stdout",
     "output_type": "stream",
     "text": [
      "Enter a number: hhh\n",
      "sorry. This is not valid. Try again!\n",
      "Enter a number: kk\n",
      "sorry. This is not valid. Try again!\n",
      "Enter a number: 10\n",
      "Enter second number20\n",
      "0.5\n"
     ]
    }
   ],
   "source": [
    "#write a program to take 2 numbers from the user. Print the result for division of the 2 numbers\n",
    "\n",
    "# 4 keyswords for exception handling - try, except, else and finally block\n",
    "\n",
    "#added feature--->Creating & throwing custom exceptions \n",
    "\n",
    "\"\"\"\n",
    "give users unlimited chances for giving a correct input. If something goes wrong, explain to the user. \n",
    "Allow then to Try again\n",
    "\"\"\"\n",
    "flag = True\n",
    "while flag:\n",
    "    try:\n",
    "        n1= int(input(\"Enter a number: \"))\n",
    "        n2 = int(input(\"Enter second number\"))\n",
    "                 \n",
    "    except ValueError:\n",
    "                 print(\"sorry. This is not valid. Try again!\")\n",
    "            \n",
    "            \n",
    "    else:\n",
    "        try:\n",
    "            print(n1/n2)\n",
    "            flag=False #make my loop stop\n",
    "\n",
    "        except ZeroDivisionError:\n",
    "            print(\"cannot divide by zero. please try again\")\n",
    "        "
   ]
  },
  {
   "cell_type": "code",
   "execution_count": null,
   "metadata": {},
   "outputs": [],
   "source": [
    "\"\"\"\n",
    "try----->write code that MAY throw exception here\n",
    "except--->these blocks handle exception that MAY arise inn try block. You can write multiple except blocks \n",
    "for every try\n",
    "else-----> we write the steps to be taken IF NO EXCEPTIONS ARISE IN try inside this else block\n",
    "finally----> any activity that needs to be performed in both cases, exception or no exception\n",
    "\"\"\"\n",
    "\n",
    "\n",
    "\n"
   ]
  },
  {
   "cell_type": "code",
   "execution_count": 93,
   "metadata": {},
   "outputs": [
    {
     "name": "stdout",
     "output_type": "stream",
     "text": [
      "Enter a number: 10\n",
      "Enter second number0\n",
      "cannot divide by zero. please try again\n",
      "CONNECTION CLOSE. GOOD BYE!\n",
      "Enter a number: 10\n",
      "Enter second number2\n",
      "5.0\n",
      "CONNECTION CLOSE. GOOD BYE!\n"
     ]
    }
   ],
   "source": [
    "flag=True\n",
    "while flag:\n",
    "    try:\n",
    "        n1= int(input(\"Enter a number: \"))\n",
    "        n2 = int(input(\"Enter second number\"))\n",
    "    except ValueError:\n",
    "                 print(\"sorry. This is not valid. Try again!\")            \n",
    "            \n",
    "    else:\n",
    "        try:\n",
    "            print(n1/n2)\n",
    "            flag=False #make my loop stop\n",
    "\n",
    "        except ZeroDivisionError:\n",
    "            print(\"cannot divide by zero. please try again\")\n",
    "            \n",
    "            \n",
    "    finally:\n",
    "        print(\"CONNECTION CLOSE. GOOD BYE!\")\n",
    "        \n",
    "        "
   ]
  },
  {
   "cell_type": "code",
   "execution_count": 95,
   "metadata": {},
   "outputs": [
    {
     "name": "stdout",
     "output_type": "stream",
     "text": [
      "Enter your mobile number: +18779092028\n",
      "failure\n"
     ]
    }
   ],
   "source": [
    "#verify if number given by user is valid\n",
    "\n",
    "import re\n",
    "\n",
    "\n",
    "\n",
    "pattern = re.compile( r\"^\\+91[6-9][0-9]{9}$\" )\n",
    "\n",
    "\n",
    "\n",
    "data=input(\"Enter your mobile number: \")\n",
    "\n",
    "if re.search(pattern, data ):\n",
    "    print(\"SUCCESS\")\n",
    "else:\n",
    "    print(\"failure\")"
   ]
  },
  {
   "cell_type": "code",
   "execution_count": null,
   "metadata": {},
   "outputs": [],
   "source": [
    "\"\"\"\n",
    "email ID should be at least 6 characters excluding the domain.\n",
    "Domain should be gmail.com\n",
    "IT cannot start with a number\n",
    "special symbols allowed in id are _ - and #\n",
    "\n",
    "(underscore, hyphen and hash)\n",
    "\"\"\""
   ]
  }
 ],
 "metadata": {
  "kernelspec": {
   "display_name": "Python 3",
   "language": "python",
   "name": "python3"
  },
  "language_info": {
   "codemirror_mode": {
    "name": "ipython",
    "version": 3
   },
   "file_extension": ".py",
   "mimetype": "text/x-python",
   "name": "python",
   "nbconvert_exporter": "python",
   "pygments_lexer": "ipython3",
   "version": "3.8.6"
  }
 },
 "nbformat": 4,
 "nbformat_minor": 4
}
